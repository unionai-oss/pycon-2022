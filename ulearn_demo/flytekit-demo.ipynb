{
 "cells": [
  {
   "cell_type": "code",
   "execution_count": null,
   "id": "61b68615-1049-4397-90ba-f3c4aa86663d",
   "metadata": {},
   "outputs": [],
   "source": [
    "import torch\n",
    "import torch.nn\n",
    "from typing import List\n",
    "from flytekit.remote import FlyteRemote\n",
    "from flytekit.configuration import Config\n",
    "from flytekit import task, workflow, reference_task, dynamic\n",
    "\n",
    "from pictionary_app.dataset import QuickDrawDataset\n",
    "from pictionary_app.main import model"
   ]
  },
  {
   "cell_type": "code",
   "execution_count": null,
   "id": "afa649b9-cfcb-4d89-8673-e5f79769f6af",
   "metadata": {},
   "outputs": [],
   "source": [
    "# - "
   ]
  },
  {
   "cell_type": "code",
   "execution_count": null,
   "id": "50bcf116-0ed8-4850-8834-e177c65665d0",
   "metadata": {},
   "outputs": [],
   "source": [
    "client = FlyteRemote(config=Config.auto(config_file=\"./config/config-remote.yaml\"))"
   ]
  },
  {
   "cell_type": "code",
   "execution_count": null,
   "id": "cbee5b8f-5805-4b25-98e0-476d5187c739",
   "metadata": {},
   "outputs": [],
   "source": [
    "batch_pred_wf = client.fetch_workflow(name=\"flytekit_demo.batch_predictions.wf\", version=\"TODO\", project=\"unionml\", domain=\"development\")\n",
    "execution = client.execute(batch_pred_wf, inputs={\"max_items_per_class\": 20, \"class_limit\": 4}, wait=True)"
   ]
  },
  {
   "cell_type": "code",
   "execution_count": null,
   "id": "13c87f60-00f9-48c5-831c-c15d31bf7f54",
   "metadata": {},
   "outputs": [],
   "source": [
    "# Inspect output of workflow execution and show the pairings of (image, predicted_label, label)"
   ]
  },
  {
   "cell_type": "code",
   "execution_count": null,
   "id": "64650146-4407-4253-ac98-0fd67418a6f6",
   "metadata": {},
   "outputs": [],
   "source": [
    "q = QuickDrawDataset(root=\"./tmp\", max_items_per_class=20, class_limit=10)"
   ]
  },
  {
   "cell_type": "code",
   "execution_count": null,
   "id": "49ae6697-983a-4513-bc04-873429196942",
   "metadata": {},
   "outputs": [],
   "source": [
    "from matplotlib import pyplot as plt\n",
    "\n",
    "fig, axes = plt.subplots(20, 10, figsize=(16,16))\n",
    "for i, ax in enumerate(axes.flat):\n",
    "    ax.imshow(q[i][0].permute(1, 2, 0), interpolation='nearest')\n",
    "    \n",
    "# plt.imshow(q[3][0].permute(1, 2, 0), interpolation='nearest')\n",
    "# plt.show()\n",
    "\n"
   ]
  },
  {
   "cell_type": "code",
   "execution_count": null,
   "id": "26ff933f-7963-486f-b6fa-d6bc3976d6ec",
   "metadata": {},
   "outputs": [],
   "source": []
  }
 ],
 "metadata": {
  "kernelspec": {
   "display_name": "Python 3 (ipykernel)",
   "language": "python",
   "name": "python3"
  },
  "language_info": {
   "codemirror_mode": {
    "name": "ipython",
    "version": 3
   },
   "file_extension": ".py",
   "mimetype": "text/x-python",
   "name": "python",
   "nbconvert_exporter": "python",
   "pygments_lexer": "ipython3",
   "version": "3.9.1"
  }
 },
 "nbformat": 4,
 "nbformat_minor": 5
}

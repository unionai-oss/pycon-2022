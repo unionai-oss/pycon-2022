{
 "cells": [
  {
   "cell_type": "markdown",
   "id": "717c4b19-7aed-4906-814e-ecdb6dea11ad",
   "metadata": {},
   "source": [
    "# UnionML Demo"
   ]
  },
  {
   "cell_type": "code",
   "execution_count": null,
   "id": "4d5eedd9-10b0-48de-9d75-294dca73d406",
   "metadata": {},
   "outputs": [],
   "source": [
    "from pictionary_app import model\n",
    "\n",
    "num_classes = 200\n",
    "\n",
    "execution = model.remote_train(\n",
    "    hyperparameters={\"num_classes\": num_classes},\n",
    "    trainer_kwargs={\"num_epochs\": 1},\n",
    "    data_dir=\"./data\",\n",
    "    max_examples_per_class=10000,\n",
    "    class_limit=num_classes,\n",
    ")"
   ]
  },
  {
   "cell_type": "markdown",
   "id": "707e85b4-1753-439c-827c-22c776154b07",
   "metadata": {},
   "source": [
    "# 🚨🚨🚨 **NOTE FOR UNION.AI TEAM** 🚨🚨🚨 The following other settings will hopefully be cached and good\n",
    "to go for use in the demo. You can try it out, and replace the code snippet above with one of the ones below.\n",
    "\n",
    "### More labels:\n",
    "\n",
    "- execution: https://playground.hosted.unionai.cloud/console/projects/unionml/domains/development/executions/f27171bd39bec4f04929?duration=all\n",
    "\n",
    "```python\n",
    "num_classes = 200\n",
    "\n",
    "execution = model.remote_train(\n",
    "    hyperparameters={\"num_classes\": num_classes},\n",
    "    trainer_kwargs={\"num_epochs\": 1},\n",
    "    data_dir=\"./data\",\n",
    "    max_examples_per_class=10000,\n",
    "    class_limit=num_classes,\n",
    ")\n",
    "```\n",
    "\n",
    "### More labels, trained for longer\n",
    "\n",
    "- execution: https://playground.hosted.unionai.cloud/console/projects/unionml/domains/development/executions/f444bd69e68c747a59cf?duration=all\n",
    "\n",
    "```python\n",
    "num_classes = 200\n",
    "\n",
    "execution = model.remote_train(\n",
    "    hyperparameters={\"num_classes\": num_classes},\n",
    "    trainer_kwargs={\"num_epochs\": 20},\n",
    "    data_dir=\"./data\",\n",
    "    max_examples_per_class=10000,\n",
    "    class_limit=num_classes,\n",
    ")\n",
    "```\n",
    "\n",
    "### All labels, trained for longer\n",
    "\n",
    "- cpu execution: https://playground.hosted.unionai.cloud/console/projects/unionml/domains/development/executions/f23f637d2f3b74460a6f?duration=all\n",
    "- gpu execution: https://playground.hosted.unionai.cloud/console/projects/unionml/domains/development/executions/f03bd4bc57adf4db1b46?duration=all\n",
    "\n",
    "```python\n",
    "num_classes = 345\n",
    "\n",
    "execution = model.remote_train(\n",
    "    hyperparameters={\"num_classes\": num_classes},\n",
    "    trainer_kwargs={\"num_epochs\": 20},\n",
    "    data_dir=\"./data\",\n",
    "    max_examples_per_class=10000,\n",
    "    class_limit=num_classes,\n",
    ")\n",
    "```\n",
    "\n",
    "### All labels, trained for longer much longer on gpu\n",
    "\n",
    "- execution: https://playground.hosted.unionai.cloud/console/projects/unionml/domains/development/executions/fe652be0db07b473383e?duration=all\n",
    "\n",
    "```python\n",
    "num_classes = 345\n",
    "\n",
    "execution = model.remote_train(\n",
    "    hyperparameters={\"num_classes\": num_classes},\n",
    "    trainer_kwargs={\"num_epochs\": 45},\n",
    "    data_dir=\"./data\",\n",
    "    max_examples_per_class=10000,\n",
    "    class_limit=num_classes,\n",
    ")\n",
    "```"
   ]
  },
  {
   "cell_type": "code",
   "execution_count": null,
   "id": "c4e99bf3-9d6a-464b-8189-43bfc4a55b4d",
   "metadata": {},
   "outputs": [],
   "source": [
    "# wait for the execution to complete, then load model from remote\n",
    "model.remote_load(execution)"
   ]
  },
  {
   "cell_type": "code",
   "execution_count": null,
   "id": "13ef3f18-ae57-4d13-b99f-ebedc98393cd",
   "metadata": {},
   "outputs": [],
   "source": [
    "import gradio as gr\n",
    "\n",
    "gr.Interface(\n",
    "    fn=model.predict,\n",
    "    inputs=\"sketchpad\",\n",
    "    outputs=\"label\",\n",
    "    live=True,\n",
    "    allow_flagging=\"never\",\n",
    ").launch()"
   ]
  },
  {
   "cell_type": "markdown",
   "id": "de868d82-2c31-4c2b-92ca-1984214fdd7c",
   "metadata": {},
   "source": [
    "# Flytekit Demo"
   ]
  },
  {
   "cell_type": "code",
   "execution_count": null,
   "id": "135490b4-9f0c-459c-82bc-c5ac1f3bd619",
   "metadata": {},
   "outputs": [],
   "source": [
    "from pictionary_app.dataset import QuickDrawDataset\n",
    "\n",
    "dataset = QuickDrawDataset(\"/tmp/quickdraw_data\", max_items_per_class=1000, class_limit=num_classes)\n",
    "dataset"
   ]
  },
  {
   "cell_type": "code",
   "execution_count": null,
   "id": "704974ce-a3e9-4adf-b9eb-8806e967a77a",
   "metadata": {},
   "outputs": [],
   "source": [
    "model.artifact.model_object"
   ]
  },
  {
   "cell_type": "markdown",
   "id": "727cd72a-9fac-4430-a282-f77a8034f20f",
   "metadata": {},
   "source": [
    "Create a `FlyteRemote` object and fetch the batch prediction workflow"
   ]
  },
  {
   "cell_type": "code",
   "execution_count": null,
   "id": "606ab6a6-c767-4ffe-8911-777ec346bfd4",
   "metadata": {},
   "outputs": [],
   "source": [
    "from flytekit.remote import FlyteRemote\n",
    "from flytekit.configuration import Config\n",
    "\n",
    "\n",
    "remote = FlyteRemote(config=Config.auto(config_file=\"./config/config-remote.yaml\"), data_upload_location=\"s3://open-compute-playground/data\")\n",
    "wf = remote.fetch_workflow(project=\"unionml\", domain=\"development\", name=\"flytekit_demo.batch_predictions.wf\", version=\"v1\")"
   ]
  },
  {
   "cell_type": "markdown",
   "id": "abc5b024-a415-4d50-bdee-33471e1c1f63",
   "metadata": {},
   "source": [
    "Get features and labels"
   ]
  },
  {
   "cell_type": "code",
   "execution_count": null,
   "id": "93a37cb7-5325-4da2-8b8f-6cd24aae1635",
   "metadata": {},
   "outputs": [],
   "source": [
    "feature_list = []\n",
    "label_list = []\n",
    "for i in range(5):\n",
    "    X, y = dataset[i]\n",
    "    feature_list.append(X.squeeze())\n",
    "    label_list.append(y)"
   ]
  },
  {
   "cell_type": "code",
   "execution_count": null,
   "id": "fffb0ab0-6493-46e0-9a71-21eeeefc6a38",
   "metadata": {},
   "outputs": [],
   "source": [
    "# NOTE: make sure you have aws credentials for the s3://open-compute-playground bucket\n",
    "execution = remote.execute(\n",
    "    wf,\n",
    "    inputs={\"model_object\": model.artifact.model_object, \"feature_list\": feature_list},\n",
    "    project=\"unionml\",\n",
    "    domain=\"development\",\n",
    "    wait=True,\n",
    ")"
   ]
  },
  {
   "cell_type": "code",
   "execution_count": null,
   "id": "56a7febd-adac-44fe-a739-54a40c60aad8",
   "metadata": {},
   "outputs": [],
   "source": [
    "execution"
   ]
  }
 ],
 "metadata": {
  "kernelspec": {
   "display_name": "Python 3 (ipykernel)",
   "language": "python",
   "name": "python3"
  },
  "language_info": {
   "codemirror_mode": {
    "name": "ipython",
    "version": 3
   },
   "file_extension": ".py",
   "mimetype": "text/x-python",
   "name": "python",
   "nbconvert_exporter": "python",
   "pygments_lexer": "ipython3",
   "version": "3.9.1"
  }
 },
 "nbformat": 4,
 "nbformat_minor": 5
}

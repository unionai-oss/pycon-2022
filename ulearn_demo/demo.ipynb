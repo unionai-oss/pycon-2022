{
 "cells": [
  {
   "cell_type": "code",
   "execution_count": 1,
   "id": "7872bd02-f245-400d-945c-cd04ae0ec564",
   "metadata": {},
   "outputs": [],
   "source": [
    "import unionml\n",
    "\n",
    "from pictionary_app.main import model"
   ]
  },
  {
   "cell_type": "code",
   "execution_count": 2,
   "id": "4d5eedd9-10b0-48de-9d75-294dca73d406",
   "metadata": {},
   "outputs": [
    {
     "name": "stdout",
     "output_type": "stream",
     "text": [
      "Executing quickdraw_classifier.train, execution name: f8de65c1c5a47451e990.\n",
      "Go to https://playground.hosted.unionai.cloud/console/projects/unionml/domains/development/executions/f8de65c1c5a47451e990 to see the execution in the console.\n"
     ]
    }
   ],
   "source": [
    "num_classes = 3\n",
    "\n",
    "# run training on a remote\n",
    "execution = model.remote_train(\n",
    "    hyperparameters={\"num_classes\": num_classes},\n",
    "    trainer_kwargs={\"num_epochs\": 1},\n",
    "    data_dir=\"./data\",\n",
    "    max_examples_per_class=1000,\n",
    "    class_limit=num_classes,\n",
    ")"
   ]
  },
  {
   "cell_type": "code",
   "execution_count": 5,
   "id": "1697f73a-c38b-4a64-993a-3b48ebec6b9f",
   "metadata": {},
   "outputs": [
    {
     "data": {
      "text/plain": [
       "Partially converted to native values, call get(key, <type_hint>) to convert rest...\n",
       "{\n",
       "  hyperparameters: \n",
       "                   scalar {\n",
       "                     generic {\n",
       "                       fields {\n",
       "                         key: \"num_classes\"\n",
       "                         value {\n",
       "                           number_value: 3.0\n",
       "                         }\n",
       "                       }\n",
       "                     }\n",
       "                   }\n",
       "  trained_model: \n",
       "                 scalar {\n",
       "                   blob {\n",
       "                     metadata {\n",
       "                       type {\n",
       "                         format: \"PythonPickle\"\n",
       "                       }\n",
       "                     }\n",
       "                     uri: \"s3://open-compute-playground/s3/f8de65c1c5a47451e990-n1-0/39677485268991fec409a198d4ded602/0655fa4bf41372c2c79690bc1a54535e\"\n",
       "                   }\n",
       "                 }\n",
       "  metrics: \n",
       "           map {\n",
       "             literals {\n",
       "               key: \"test\"\n",
       "               value {\n",
       "                 scalar {\n",
       "                   primitive {\n",
       "                     float_value: 33.214962005615234\n",
       "                   }\n",
       "                 }\n",
       "               }\n",
       "             }\n",
       "             literals {\n",
       "               key: \"train\"\n",
       "               value {\n",
       "                 scalar {\n",
       "                   primitive {\n",
       "                     float_value: 33.372398376464844\n",
       "                   }\n",
       "                 }\n",
       "               }\n",
       "             }\n",
       "           }\n",
       "\n",
       "}"
      ]
     },
     "execution_count": 5,
     "metadata": {},
     "output_type": "execute_result"
    }
   ],
   "source": [
    "execution.outputs"
   ]
  },
  {
   "cell_type": "code",
   "execution_count": 3,
   "id": "c4e99bf3-9d6a-464b-8189-43bfc4a55b4d",
   "metadata": {},
   "outputs": [
    {
     "name": "stdout",
     "output_type": "stream",
     "text": [
      "Waiting for execution f8de65c1c5a47451e990 to complete...\n",
      "Done.\n"
     ]
    },
    {
     "ename": "ValueError",
     "evalue": "Key model_object is not in the literal map",
     "output_type": "error",
     "traceback": [
      "\u001b[0;31m---------------------------------------------------------------------------\u001b[0m",
      "\u001b[0;31mValueError\u001b[0m                                Traceback (most recent call last)",
      "Input \u001b[0;32mIn [3]\u001b[0m, in \u001b[0;36m<cell line: 2>\u001b[0;34m()\u001b[0m\n\u001b[1;32m      1\u001b[0m \u001b[38;5;66;03m# wait for the execution to complete, then a\u001b[39;00m\n\u001b[0;32m----> 2\u001b[0m \u001b[43mmodel\u001b[49m\u001b[38;5;241;43m.\u001b[39;49m\u001b[43mremote_load\u001b[49m\u001b[43m(\u001b[49m\u001b[43mexecution\u001b[49m\u001b[43m)\u001b[49m\n",
      "File \u001b[0;32m~/git/unionml/unionml/model.py:549\u001b[0m, in \u001b[0;36mModel.remote_load\u001b[0;34m(self, execution)\u001b[0m\n\u001b[1;32m    546\u001b[0m     execution \u001b[38;5;241m=\u001b[39m \u001b[38;5;28mself\u001b[39m\u001b[38;5;241m.\u001b[39mremote_wait(execution)\n\u001b[1;32m    547\u001b[0m     \u001b[38;5;28mprint\u001b[39m(\u001b[38;5;124m\"\u001b[39m\u001b[38;5;124mDone.\u001b[39m\u001b[38;5;124m\"\u001b[39m)\n\u001b[1;32m    548\u001b[0m \u001b[38;5;28mself\u001b[39m\u001b[38;5;241m.\u001b[39martifact \u001b[38;5;241m=\u001b[39m ModelArtifact(\n\u001b[0;32m--> 549\u001b[0m     \u001b[43mexecution\u001b[49m\u001b[38;5;241;43m.\u001b[39;49m\u001b[43moutputs\u001b[49m\u001b[43m[\u001b[49m\u001b[38;5;124;43m\"\u001b[39;49m\u001b[38;5;124;43mmodel_object\u001b[39;49m\u001b[38;5;124;43m\"\u001b[39;49m\u001b[43m]\u001b[49m,\n\u001b[1;32m    550\u001b[0m     execution\u001b[38;5;241m.\u001b[39moutputs[\u001b[38;5;124m\"\u001b[39m\u001b[38;5;124mhyperparameters\u001b[39m\u001b[38;5;124m\"\u001b[39m],\n\u001b[1;32m    551\u001b[0m     execution\u001b[38;5;241m.\u001b[39moutputs[\u001b[38;5;124m\"\u001b[39m\u001b[38;5;124mmetrics\u001b[39m\u001b[38;5;124m\"\u001b[39m],\n\u001b[1;32m    552\u001b[0m )\n",
      "File \u001b[0;32m~/venvs/unionml-demo/lib/python3.9/site-packages/flytekit/core/type_engine.py:1503\u001b[0m, in \u001b[0;36mLiteralsResolver.__getitem__\u001b[0;34m(self, key)\u001b[0m\n\u001b[1;32m   1500\u001b[0m \u001b[38;5;28;01mdef\u001b[39;00m \u001b[38;5;21m__getitem__\u001b[39m(\u001b[38;5;28mself\u001b[39m, key: \u001b[38;5;28mstr\u001b[39m):\n\u001b[1;32m   1501\u001b[0m     \u001b[38;5;66;03m# First check to see if it's even in the literal map.\u001b[39;00m\n\u001b[1;32m   1502\u001b[0m     \u001b[38;5;28;01mif\u001b[39;00m key \u001b[38;5;129;01mnot\u001b[39;00m \u001b[38;5;129;01min\u001b[39;00m \u001b[38;5;28mself\u001b[39m\u001b[38;5;241m.\u001b[39m_literals:\n\u001b[0;32m-> 1503\u001b[0m         \u001b[38;5;28;01mraise\u001b[39;00m \u001b[38;5;167;01mValueError\u001b[39;00m(\u001b[38;5;124mf\u001b[39m\u001b[38;5;124m\"\u001b[39m\u001b[38;5;124mKey \u001b[39m\u001b[38;5;132;01m{\u001b[39;00mkey\u001b[38;5;132;01m}\u001b[39;00m\u001b[38;5;124m is not in the literal map\u001b[39m\u001b[38;5;124m\"\u001b[39m)\n\u001b[1;32m   1505\u001b[0m     \u001b[38;5;66;03m# Return the cached value if it's cached\u001b[39;00m\n\u001b[1;32m   1506\u001b[0m     \u001b[38;5;28;01mif\u001b[39;00m key \u001b[38;5;129;01min\u001b[39;00m \u001b[38;5;28mself\u001b[39m\u001b[38;5;241m.\u001b[39m_native_values:\n",
      "\u001b[0;31mValueError\u001b[0m: Key model_object is not in the literal map"
     ]
    }
   ],
   "source": [
    "# wait for the execution to complete, then a\n",
    "model.remote_load(execution)"
   ]
  },
  {
   "cell_type": "code",
   "execution_count": null,
   "id": "13ef3f18-ae57-4d13-b99f-ebedc98393cd",
   "metadata": {},
   "outputs": [],
   "source": [
    "import gradio as gr\n",
    "\n",
    "gr.Interface(\n",
    "    fn=model.predict,\n",
    "    inputs=\"sketchpad\",\n",
    "    outputs=\"label\",\n",
    "    live=True,\n",
    "    allow_flagging=\"never\",\n",
    ").launch()"
   ]
  }
 ],
 "metadata": {
  "kernelspec": {
   "display_name": "Python 3 (ipykernel)",
   "language": "python",
   "name": "python3"
  },
  "language_info": {
   "codemirror_mode": {
    "name": "ipython",
    "version": 3
   },
   "file_extension": ".py",
   "mimetype": "text/x-python",
   "name": "python",
   "nbconvert_exporter": "python",
   "pygments_lexer": "ipython3",
   "version": "3.9.1"
  }
 },
 "nbformat": 4,
 "nbformat_minor": 5
}

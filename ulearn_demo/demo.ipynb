{
 "cells": [
  {
   "cell_type": "code",
   "execution_count": 2,
   "id": "7872bd02-f245-400d-945c-cd04ae0ec564",
   "metadata": {},
   "outputs": [],
   "source": [
    "import warnings\n",
    "import unionml\n",
    "\n",
    "from pictionary_app import model\n",
    "\n",
    "warnings.simplefilter(\"ignore\")"
   ]
  },
  {
   "cell_type": "code",
   "execution_count": 3,
   "id": "4d5eedd9-10b0-48de-9d75-294dca73d406",
   "metadata": {},
   "outputs": [
    {
     "name": "stdout",
     "output_type": "stream",
     "text": [
      "Executing quickdraw_classifier.train, execution name: f475932fceb88435f94c.\n",
      "Go to https://playground.hosted.unionai.cloud/console/projects/unionml/domains/development/executions/f475932fceb88435f94c to see the execution in the console.\n"
     ]
    }
   ],
   "source": [
    "num_classes = 3\n",
    "\n",
    "# run training on a remote\n",
    "execution = model.remote_train(\n",
    "    hyperparameters={\"num_classes\": num_classes},\n",
    "    trainer_kwargs={\"num_epochs\": 1},\n",
    "    data_dir=\"./data\",\n",
    "    max_examples_per_class=1000,\n",
    "    class_limit=num_classes,\n",
    ")"
   ]
  },
  {
   "cell_type": "code",
   "execution_count": 4,
   "id": "c4e99bf3-9d6a-464b-8189-43bfc4a55b4d",
   "metadata": {},
   "outputs": [
    {
     "name": "stdout",
     "output_type": "stream",
     "text": [
      "Waiting for execution f475932fceb88435f94c to complete...\n",
      "Done.\n"
     ]
    }
   ],
   "source": [
    "# wait for the execution to complete, then a\n",
    "model.remote_load(execution)"
   ]
  },
  {
   "cell_type": "code",
   "execution_count": 5,
   "id": "13ef3f18-ae57-4d13-b99f-ebedc98393cd",
   "metadata": {},
   "outputs": [
    {
     "name": "stdout",
     "output_type": "stream",
     "text": [
      "Running on local URL:  http://127.0.0.1:7860/\n",
      "\n",
      "To create a public link, set `share=True` in `launch()`.\n"
     ]
    },
    {
     "data": {
      "text/html": [
       "\n",
       "        <iframe\n",
       "            width=\"900\"\n",
       "            height=\"500\"\n",
       "            src=\"http://127.0.0.1:7860/\"\n",
       "            frameborder=\"0\"\n",
       "            allowfullscreen\n",
       "            \n",
       "        ></iframe>\n",
       "        "
      ],
      "text/plain": [
       "<IPython.lib.display.IFrame at 0x7faaf96e4670>"
      ]
     },
     "metadata": {},
     "output_type": "display_data"
    },
    {
     "data": {
      "text/plain": [
       "(<fastapi.applications.FastAPI at 0x7faada1be100>,\n",
       " 'http://127.0.0.1:7860/',\n",
       " None)"
      ]
     },
     "execution_count": 5,
     "metadata": {},
     "output_type": "execute_result"
    }
   ],
   "source": [
    "import gradio as gr\n",
    "\n",
    "gr.Interface(\n",
    "    fn=model.predict,\n",
    "    inputs=\"sketchpad\",\n",
    "    outputs=\"label\",\n",
    "    live=True,\n",
    "    allow_flagging=\"never\",\n",
    ").launch()"
   ]
  },
  {
   "cell_type": "code",
   "execution_count": null,
   "id": "04434bea-5604-4168-b67d-ce4599d012e7",
   "metadata": {},
   "outputs": [],
   "source": [
    "# - get the features and labels locally\n",
    "# - get model.artifact.model_object\n",
    "# - invoke the Flyte workflow for predictions\n",
    "# - visualize the original images, with accuracy score"
   ]
  },
  {
   "cell_type": "code",
   "execution_count": 7,
   "id": "135490b4-9f0c-459c-82bc-c5ac1f3bd619",
   "metadata": {},
   "outputs": [
    {
     "name": "stdout",
     "output_type": "stream",
     "text": [
      "Downloading Quickdraw Dataset...\n"
     ]
    },
    {
     "data": {
      "application/vnd.jupyter.widget-view+json": {
       "model_id": "ac399f4b2aee47e2bf213394770beb49",
       "version_major": 2,
       "version_minor": 0
      },
      "text/plain": [
       "  0%|          | 0/3 [00:00<?, ?it/s]"
      ]
     },
     "metadata": {},
     "output_type": "display_data"
    },
    {
     "name": "stdout",
     "output_type": "stream",
     "text": [
      "Loading 1000 examples for each class from the Quickdraw Dataset...\n"
     ]
    },
    {
     "data": {
      "application/vnd.jupyter.widget-view+json": {
       "model_id": "2cf2a1217f4e4a6095e6c46349cc6282",
       "version_major": 2,
       "version_minor": 0
      },
      "text/plain": [
       "  0%|          | 0/3 [00:00<?, ?it/s]"
      ]
     },
     "metadata": {},
     "output_type": "display_data"
    },
    {
     "data": {
      "text/plain": [
       "<pictionary_app.dataset.QuickDrawDataset at 0x7faaf91c51f0>"
      ]
     },
     "execution_count": 7,
     "metadata": {},
     "output_type": "execute_result"
    }
   ],
   "source": [
    "from pictionary_app.dataset import QuickDrawDataset\n",
    "\n",
    "dataset = QuickDrawDataset(\"/tmp/quickdraw_data\", max_items_per_class=1000, class_limit=num_classes)\n",
    "dataset"
   ]
  },
  {
   "cell_type": "code",
   "execution_count": 8,
   "id": "704974ce-a3e9-4adf-b9eb-8806e967a77a",
   "metadata": {},
   "outputs": [
    {
     "data": {
      "text/plain": [
       "Sequential(\n",
       "  (0): Conv2d(1, 64, kernel_size=(3, 3), stride=(1, 1), padding=same)\n",
       "  (1): ReLU()\n",
       "  (2): MaxPool2d(kernel_size=2, stride=2, padding=0, dilation=1, ceil_mode=False)\n",
       "  (3): Conv2d(64, 128, kernel_size=(3, 3), stride=(1, 1), padding=same)\n",
       "  (4): ReLU()\n",
       "  (5): MaxPool2d(kernel_size=2, stride=2, padding=0, dilation=1, ceil_mode=False)\n",
       "  (6): Conv2d(128, 256, kernel_size=(3, 3), stride=(1, 1), padding=same)\n",
       "  (7): ReLU()\n",
       "  (8): MaxPool2d(kernel_size=2, stride=2, padding=0, dilation=1, ceil_mode=False)\n",
       "  (9): Flatten(start_dim=1, end_dim=-1)\n",
       "  (10): Linear(in_features=2304, out_features=512, bias=True)\n",
       "  (11): ReLU()\n",
       "  (12): Linear(in_features=512, out_features=3, bias=True)\n",
       ")"
      ]
     },
     "execution_count": 8,
     "metadata": {},
     "output_type": "execute_result"
    }
   ],
   "source": [
    "model.artifact.model_object"
   ]
  },
  {
   "cell_type": "markdown",
   "id": "727cd72a-9fac-4430-a282-f77a8034f20f",
   "metadata": {},
   "source": [
    "Create a `FlyteRemote` object and fetch the batch prediction workflow"
   ]
  },
  {
   "cell_type": "code",
   "execution_count": 11,
   "id": "606ab6a6-c767-4ffe-8911-777ec346bfd4",
   "metadata": {},
   "outputs": [],
   "source": [
    "from flytekit.remote import FlyteRemote\n",
    "from flytekit.configuration import Config\n",
    "\n",
    "\n",
    "remote = FlyteRemote(config=Config.auto(config_file=\"./config/config-remote.yaml\"))\n",
    "wf = remote.fetch_workflow(project=\"unionml\", domain=\"development\", name=\"flytekit_demo.batch_predictions.wf\", version=\"v1\")"
   ]
  },
  {
   "cell_type": "markdown",
   "id": "abc5b024-a415-4d50-bdee-33471e1c1f63",
   "metadata": {},
   "source": [
    "Get features and labels"
   ]
  },
  {
   "cell_type": "code",
   "execution_count": 21,
   "id": "93a37cb7-5325-4da2-8b8f-6cd24aae1635",
   "metadata": {},
   "outputs": [],
   "source": [
    "features = []\n",
    "labels = []\n",
    "for i in range(5):\n",
    "    X, y = dataset[i]\n",
    "    features.append(X.squeeze())\n",
    "    labels.append(y)"
   ]
  },
  {
   "cell_type": "code",
   "execution_count": 22,
   "id": "fffb0ab0-6493-46e0-9a71-21eeeefc6a38",
   "metadata": {},
   "outputs": [
    {
     "name": "stderr",
     "output_type": "stream",
     "text": [
      "{\"asctime\": \"2022-04-27 18:26:34,765\", \"name\": \"flytekit\", \"levelname\": \"ERROR\", \"message\": \"Exception when trying to execute ['aws', 's3', 'cp', '--acl', 'bucket-owner-full-control', '/var/folders/4q/frdnh9l10h53gggw1m59gr9m0000gn/T/flytexu3nt0_r/control_plane_metadata/local_flytekit/991eb3068ec048aaa6dadc47f92c95b8', 's3://my-s3-bucket/data/d9a39eab0e9cf865f9178a121b04ea60/991eb3068ec048aaa6dadc47f92c95b8'], reason: Called process exited with error code: 1.  Stderr dump:\\n\\nb'upload failed: ../../../../../var/folders/4q/frdnh9l10h53gggw1m59gr9m0000gn/T/flytexu3nt0_r/control_plane_metadata/local_flytekit/991eb3068ec048aaa6dadc47f92c95b8 to s3://my-s3-bucket/data/d9a39eab0e9cf865f9178a121b04ea60/991eb3068ec048aaa6dadc47f92c95b8 An error occurred (AccessDenied) when calling the PutObject operation: Access Denied\\\\n'\"}\n",
      "{\"asctime\": \"2022-04-27 18:26:41,368\", \"name\": \"flytekit\", \"levelname\": \"ERROR\", \"message\": \"Exception when trying to execute ['aws', 's3', 'cp', '--acl', 'bucket-owner-full-control', '/var/folders/4q/frdnh9l10h53gggw1m59gr9m0000gn/T/flytexu3nt0_r/control_plane_metadata/local_flytekit/991eb3068ec048aaa6dadc47f92c95b8', 's3://my-s3-bucket/data/d9a39eab0e9cf865f9178a121b04ea60/991eb3068ec048aaa6dadc47f92c95b8'], reason: Called process exited with error code: 1.  Stderr dump:\\n\\nb'upload failed: ../../../../../var/folders/4q/frdnh9l10h53gggw1m59gr9m0000gn/T/flytexu3nt0_r/control_plane_metadata/local_flytekit/991eb3068ec048aaa6dadc47f92c95b8 to s3://my-s3-bucket/data/d9a39eab0e9cf865f9178a121b04ea60/991eb3068ec048aaa6dadc47f92c95b8 An error occurred (AccessDenied) when calling the PutObject operation: Access Denied\\\\n'\"}\n",
      "{\"asctime\": \"2022-04-27 18:26:47,932\", \"name\": \"flytekit\", \"levelname\": \"ERROR\", \"message\": \"Exception when trying to execute ['aws', 's3', 'cp', '--acl', 'bucket-owner-full-control', '/var/folders/4q/frdnh9l10h53gggw1m59gr9m0000gn/T/flytexu3nt0_r/control_plane_metadata/local_flytekit/991eb3068ec048aaa6dadc47f92c95b8', 's3://my-s3-bucket/data/d9a39eab0e9cf865f9178a121b04ea60/991eb3068ec048aaa6dadc47f92c95b8'], reason: Called process exited with error code: 1.  Stderr dump:\\n\\nb'upload failed: ../../../../../var/folders/4q/frdnh9l10h53gggw1m59gr9m0000gn/T/flytexu3nt0_r/control_plane_metadata/local_flytekit/991eb3068ec048aaa6dadc47f92c95b8 to s3://my-s3-bucket/data/d9a39eab0e9cf865f9178a121b04ea60/991eb3068ec048aaa6dadc47f92c95b8 An error occurred (AccessDenied) when calling the PutObject operation: Access Denied\\\\n'\"}\n",
      "{\"asctime\": \"2022-04-27 18:26:54,596\", \"name\": \"flytekit\", \"levelname\": \"ERROR\", \"message\": \"Exception when trying to execute ['aws', 's3', 'cp', '--acl', 'bucket-owner-full-control', '/var/folders/4q/frdnh9l10h53gggw1m59gr9m0000gn/T/flytexu3nt0_r/control_plane_metadata/local_flytekit/991eb3068ec048aaa6dadc47f92c95b8', 's3://my-s3-bucket/data/d9a39eab0e9cf865f9178a121b04ea60/991eb3068ec048aaa6dadc47f92c95b8'], reason: Called process exited with error code: 1.  Stderr dump:\\n\\nb'upload failed: ../../../../../var/folders/4q/frdnh9l10h53gggw1m59gr9m0000gn/T/flytexu3nt0_r/control_plane_metadata/local_flytekit/991eb3068ec048aaa6dadc47f92c95b8 to s3://my-s3-bucket/data/d9a39eab0e9cf865f9178a121b04ea60/991eb3068ec048aaa6dadc47f92c95b8 An error occurred (AccessDenied) when calling the PutObject operation: Access Denied\\\\n'\"}\n"
     ]
    },
    {
     "ename": "FlyteAssertion",
     "evalue": "Failed to put data from /var/folders/4q/frdnh9l10h53gggw1m59gr9m0000gn/T/flytexu3nt0_r/control_plane_metadata/local_flytekit/991eb3068ec048aaa6dadc47f92c95b8 to s3://my-s3-bucket/data/d9a39eab0e9cf865f9178a121b04ea60/991eb3068ec048aaa6dadc47f92c95b8 (recursive=False).\n\nOriginal exception: Called process exited with error code: 1.  Stderr dump:\n\nb'upload failed: ../../../../../var/folders/4q/frdnh9l10h53gggw1m59gr9m0000gn/T/flytexu3nt0_r/control_plane_metadata/local_flytekit/991eb3068ec048aaa6dadc47f92c95b8 to s3://my-s3-bucket/data/d9a39eab0e9cf865f9178a121b04ea60/991eb3068ec048aaa6dadc47f92c95b8 An error occurred (AccessDenied) when calling the PutObject operation: Access Denied\\n'",
     "output_type": "error",
     "traceback": [
      "\u001b[0;31m---------------------------------------------------------------------------\u001b[0m",
      "\u001b[0;31mException\u001b[0m                                 Traceback (most recent call last)",
      "File \u001b[0;32m~/venvs/unionml-demo/lib/python3.9/site-packages/flytekit/core/data_persistence.py:443\u001b[0m, in \u001b[0;36mFileAccessProvider.put_data\u001b[0;34m(self, local_path, remote_path, is_multipart)\u001b[0m\n\u001b[1;32m    442\u001b[0m     \u001b[38;5;28;01mwith\u001b[39;00m PerformanceTimer(\u001b[38;5;124mf\u001b[39m\u001b[38;5;124m\"\u001b[39m\u001b[38;5;124mWriting (\u001b[39m\u001b[38;5;132;01m{\u001b[39;00mlocal_path\u001b[38;5;132;01m}\u001b[39;00m\u001b[38;5;124m -> \u001b[39m\u001b[38;5;132;01m{\u001b[39;00mremote_path\u001b[38;5;132;01m}\u001b[39;00m\u001b[38;5;124m)\u001b[39m\u001b[38;5;124m\"\u001b[39m):\n\u001b[0;32m--> 443\u001b[0m         \u001b[43mDataPersistencePlugins\u001b[49m\u001b[38;5;241;43m.\u001b[39;49m\u001b[43mfind_plugin\u001b[49m\u001b[43m(\u001b[49m\u001b[43mremote_path\u001b[49m\u001b[43m)\u001b[49m\u001b[43m(\u001b[49m\u001b[43m)\u001b[49m\u001b[38;5;241;43m.\u001b[39;49m\u001b[43mput\u001b[49m\u001b[43m(\u001b[49m\u001b[43mlocal_path\u001b[49m\u001b[43m,\u001b[49m\u001b[43m \u001b[49m\u001b[43mremote_path\u001b[49m\u001b[43m,\u001b[49m\u001b[43m \u001b[49m\u001b[43mrecursive\u001b[49m\u001b[38;5;241;43m=\u001b[39;49m\u001b[43mis_multipart\u001b[49m\u001b[43m)\u001b[49m\n\u001b[1;32m    444\u001b[0m \u001b[38;5;28;01mexcept\u001b[39;00m \u001b[38;5;167;01mException\u001b[39;00m \u001b[38;5;28;01mas\u001b[39;00m ex:\n",
      "File \u001b[0;32m~/venvs/unionml-demo/lib/python3.9/site-packages/flytekit/extras/persistence/s3_awscli.py:169\u001b[0m, in \u001b[0;36mS3Persistence.put\u001b[0;34m(self, from_path, to_path, recursive)\u001b[0m\n\u001b[1;32m    168\u001b[0m cmd \u001b[38;5;241m+\u001b[39m\u001b[38;5;241m=\u001b[39m [from_path, to_path]\n\u001b[0;32m--> 169\u001b[0m \u001b[38;5;28;01mreturn\u001b[39;00m \u001b[43m_update_cmd_config_and_execute\u001b[49m\u001b[43m(\u001b[49m\u001b[43mcmd\u001b[49m\u001b[38;5;241;43m=\u001b[39;49m\u001b[43mcmd\u001b[49m\u001b[43m,\u001b[49m\u001b[43m \u001b[49m\u001b[43ms3_cfg\u001b[49m\u001b[38;5;241;43m=\u001b[39;49m\u001b[38;5;28;43mself\u001b[39;49m\u001b[38;5;241;43m.\u001b[39;49m\u001b[43ms3_cfg\u001b[49m\u001b[43m)\u001b[49m\n",
      "File \u001b[0;32m~/venvs/unionml-demo/lib/python3.9/site-packages/flytekit/extras/persistence/s3_awscli.py:51\u001b[0m, in \u001b[0;36m_update_cmd_config_and_execute\u001b[0;34m(s3_cfg, cmd)\u001b[0m\n\u001b[1;32m     50\u001b[0m     anonymous_cmd\u001b[38;5;241m.\u001b[39minsert(\u001b[38;5;241m1\u001b[39m, S3_ANONYMOUS_FLAG)\n\u001b[0;32m---> 51\u001b[0m     \u001b[38;5;28;01mreturn\u001b[39;00m \u001b[43msubprocess\u001b[49m\u001b[38;5;241;43m.\u001b[39;49m\u001b[43mcheck_call\u001b[49m\u001b[43m(\u001b[49m\u001b[43manonymous_cmd\u001b[49m\u001b[43m,\u001b[49m\u001b[43m \u001b[49m\u001b[43menv\u001b[49m\u001b[38;5;241;43m=\u001b[39;49m\u001b[43menv\u001b[49m\u001b[43m)\u001b[49m\n\u001b[1;32m     53\u001b[0m \u001b[38;5;28;01mexcept\u001b[39;00m \u001b[38;5;167;01mException\u001b[39;00m \u001b[38;5;28;01mas\u001b[39;00m e:\n",
      "File \u001b[0;32m~/venvs/unionml-demo/lib/python3.9/site-packages/flytekit/tools/subprocess.py:26\u001b[0m, in \u001b[0;36mcheck_call\u001b[0;34m(cmd_args, **kwargs)\u001b[0m\n\u001b[1;32m     24\u001b[0m             logger\u001b[38;5;241m.\u001b[39merror(\u001b[38;5;124m\"\u001b[39m\u001b[38;5;124mError from command \u001b[39m\u001b[38;5;124m'\u001b[39m\u001b[38;5;132;01m{}\u001b[39;00m\u001b[38;5;124m'\u001b[39m\u001b[38;5;124m:\u001b[39m\u001b[38;5;130;01m\\n\u001b[39;00m\u001b[38;5;132;01m{}\u001b[39;00m\u001b[38;5;130;01m\\n\u001b[39;00m\u001b[38;5;124m\"\u001b[39m\u001b[38;5;241m.\u001b[39mformat(cmd_args, err_str))\n\u001b[0;32m---> 26\u001b[0m             \u001b[38;5;28;01mraise\u001b[39;00m \u001b[38;5;167;01mException\u001b[39;00m(\n\u001b[1;32m     27\u001b[0m                 \u001b[38;5;124m\"\u001b[39m\u001b[38;5;124mCalled process exited with error code: \u001b[39m\u001b[38;5;132;01m{}\u001b[39;00m\u001b[38;5;124m.  Stderr dump:\u001b[39m\u001b[38;5;130;01m\\n\u001b[39;00m\u001b[38;5;130;01m\\n\u001b[39;00m\u001b[38;5;132;01m{}\u001b[39;00m\u001b[38;5;124m\"\u001b[39m\u001b[38;5;241m.\u001b[39mformat(ret_code, err_str)\n\u001b[1;32m     28\u001b[0m             )\n\u001b[1;32m     30\u001b[0m \u001b[38;5;28;01mreturn\u001b[39;00m \u001b[38;5;241m0\u001b[39m\n",
      "\u001b[0;31mException\u001b[0m: Called process exited with error code: 1.  Stderr dump:\n\nb'upload failed: ../../../../../var/folders/4q/frdnh9l10h53gggw1m59gr9m0000gn/T/flytexu3nt0_r/control_plane_metadata/local_flytekit/991eb3068ec048aaa6dadc47f92c95b8 to s3://my-s3-bucket/data/d9a39eab0e9cf865f9178a121b04ea60/991eb3068ec048aaa6dadc47f92c95b8 An error occurred (AccessDenied) when calling the PutObject operation: Access Denied\\n'",
      "\nThe above exception was the direct cause of the following exception:\n",
      "\u001b[0;31mFlyteAssertion\u001b[0m                            Traceback (most recent call last)",
      "Input \u001b[0;32mIn [22]\u001b[0m, in \u001b[0;36m<cell line: 1>\u001b[0;34m()\u001b[0m\n\u001b[0;32m----> 1\u001b[0m execution \u001b[38;5;241m=\u001b[39m \u001b[43mremote\u001b[49m\u001b[38;5;241;43m.\u001b[39;49m\u001b[43mexecute\u001b[49m\u001b[43m(\u001b[49m\n\u001b[1;32m      2\u001b[0m \u001b[43m    \u001b[49m\u001b[43mwf\u001b[49m\u001b[43m,\u001b[49m\n\u001b[1;32m      3\u001b[0m \u001b[43m    \u001b[49m\u001b[43minputs\u001b[49m\u001b[38;5;241;43m=\u001b[39;49m\u001b[43m{\u001b[49m\u001b[38;5;124;43m\"\u001b[39;49m\u001b[38;5;124;43mmodel_object\u001b[39;49m\u001b[38;5;124;43m\"\u001b[39;49m\u001b[43m:\u001b[49m\u001b[43m \u001b[49m\u001b[43mmodel\u001b[49m\u001b[38;5;241;43m.\u001b[39;49m\u001b[43martifact\u001b[49m\u001b[38;5;241;43m.\u001b[39;49m\u001b[43mmodel_object\u001b[49m\u001b[43m,\u001b[49m\u001b[43m \u001b[49m\u001b[38;5;124;43m\"\u001b[39;49m\u001b[38;5;124;43mfeatures\u001b[39;49m\u001b[38;5;124;43m\"\u001b[39;49m\u001b[43m:\u001b[49m\u001b[43m \u001b[49m\u001b[43mfeatures\u001b[49m\u001b[43m}\u001b[49m\u001b[43m,\u001b[49m\n\u001b[1;32m      4\u001b[0m \u001b[43m    \u001b[49m\u001b[43mproject\u001b[49m\u001b[38;5;241;43m=\u001b[39;49m\u001b[38;5;124;43m\"\u001b[39;49m\u001b[38;5;124;43munionml\u001b[39;49m\u001b[38;5;124;43m\"\u001b[39;49m\u001b[43m,\u001b[49m\n\u001b[1;32m      5\u001b[0m \u001b[43m    \u001b[49m\u001b[43mdomain\u001b[49m\u001b[38;5;241;43m=\u001b[39;49m\u001b[38;5;124;43m\"\u001b[39;49m\u001b[38;5;124;43mdevelopment\u001b[39;49m\u001b[38;5;124;43m\"\u001b[39;49m\u001b[43m,\u001b[49m\n\u001b[1;32m      6\u001b[0m \u001b[43m    \u001b[49m\u001b[43mwait\u001b[49m\u001b[38;5;241;43m=\u001b[39;49m\u001b[38;5;28;43;01mTrue\u001b[39;49;00m\u001b[43m,\u001b[49m\n\u001b[1;32m      7\u001b[0m \u001b[43m)\u001b[49m\n",
      "File \u001b[0;32m~/venvs/unionml-demo/lib/python3.9/site-packages/flytekit/remote/remote.py:796\u001b[0m, in \u001b[0;36mFlyteRemote.execute\u001b[0;34m(self, entity, inputs, project, domain, name, version, execution_name, image_config, options, wait, type_hints)\u001b[0m\n\u001b[1;32m    785\u001b[0m     \u001b[38;5;28;01mreturn\u001b[39;00m \u001b[38;5;28mself\u001b[39m\u001b[38;5;241m.\u001b[39mexecute_remote_task_lp(\n\u001b[1;32m    786\u001b[0m         entity\u001b[38;5;241m=\u001b[39mentity,\n\u001b[1;32m    787\u001b[0m         inputs\u001b[38;5;241m=\u001b[39minputs,\n\u001b[0;32m   (...)\u001b[0m\n\u001b[1;32m    793\u001b[0m         type_hints\u001b[38;5;241m=\u001b[39mtype_hints,\n\u001b[1;32m    794\u001b[0m     )\n\u001b[1;32m    795\u001b[0m \u001b[38;5;28;01mif\u001b[39;00m \u001b[38;5;28misinstance\u001b[39m(entity, FlyteWorkflow):\n\u001b[0;32m--> 796\u001b[0m     \u001b[38;5;28;01mreturn\u001b[39;00m \u001b[38;5;28;43mself\u001b[39;49m\u001b[38;5;241;43m.\u001b[39;49m\u001b[43mexecute_remote_wf\u001b[49m\u001b[43m(\u001b[49m\n\u001b[1;32m    797\u001b[0m \u001b[43m        \u001b[49m\u001b[43mentity\u001b[49m\u001b[38;5;241;43m=\u001b[39;49m\u001b[43mentity\u001b[49m\u001b[43m,\u001b[49m\n\u001b[1;32m    798\u001b[0m \u001b[43m        \u001b[49m\u001b[43minputs\u001b[49m\u001b[38;5;241;43m=\u001b[39;49m\u001b[43minputs\u001b[49m\u001b[43m,\u001b[49m\n\u001b[1;32m    799\u001b[0m \u001b[43m        \u001b[49m\u001b[43mproject\u001b[49m\u001b[38;5;241;43m=\u001b[39;49m\u001b[43mproject\u001b[49m\u001b[43m,\u001b[49m\n\u001b[1;32m    800\u001b[0m \u001b[43m        \u001b[49m\u001b[43mdomain\u001b[49m\u001b[38;5;241;43m=\u001b[39;49m\u001b[43mdomain\u001b[49m\u001b[43m,\u001b[49m\n\u001b[1;32m    801\u001b[0m \u001b[43m        \u001b[49m\u001b[43mexecution_name\u001b[49m\u001b[38;5;241;43m=\u001b[39;49m\u001b[43mexecution_name\u001b[49m\u001b[43m,\u001b[49m\n\u001b[1;32m    802\u001b[0m \u001b[43m        \u001b[49m\u001b[43moptions\u001b[49m\u001b[38;5;241;43m=\u001b[39;49m\u001b[43moptions\u001b[49m\u001b[43m,\u001b[49m\n\u001b[1;32m    803\u001b[0m \u001b[43m        \u001b[49m\u001b[43mwait\u001b[49m\u001b[38;5;241;43m=\u001b[39;49m\u001b[43mwait\u001b[49m\u001b[43m,\u001b[49m\n\u001b[1;32m    804\u001b[0m \u001b[43m        \u001b[49m\u001b[43mtype_hints\u001b[49m\u001b[38;5;241;43m=\u001b[39;49m\u001b[43mtype_hints\u001b[49m\u001b[43m,\u001b[49m\n\u001b[1;32m    805\u001b[0m \u001b[43m    \u001b[49m\u001b[43m)\u001b[49m\n\u001b[1;32m    806\u001b[0m \u001b[38;5;28;01mif\u001b[39;00m \u001b[38;5;28misinstance\u001b[39m(entity, PythonTask):\n\u001b[1;32m    807\u001b[0m     \u001b[38;5;28;01mreturn\u001b[39;00m \u001b[38;5;28mself\u001b[39m\u001b[38;5;241m.\u001b[39mexecute_local_task(\n\u001b[1;32m    808\u001b[0m         entity\u001b[38;5;241m=\u001b[39mentity,\n\u001b[1;32m    809\u001b[0m         inputs\u001b[38;5;241m=\u001b[39minputs,\n\u001b[0;32m   (...)\u001b[0m\n\u001b[1;32m    816\u001b[0m         wait\u001b[38;5;241m=\u001b[39mwait,\n\u001b[1;32m    817\u001b[0m     )\n",
      "File \u001b[0;32m~/venvs/unionml-demo/lib/python3.9/site-packages/flytekit/remote/remote.py:889\u001b[0m, in \u001b[0;36mFlyteRemote.execute_remote_wf\u001b[0;34m(self, entity, inputs, project, domain, execution_name, options, wait, type_hints)\u001b[0m\n\u001b[1;32m    884\u001b[0m \u001b[38;5;124;03m\"\"\"Execute a FlyteWorkflow.\u001b[39;00m\n\u001b[1;32m    885\u001b[0m \n\u001b[1;32m    886\u001b[0m \u001b[38;5;124;03mNOTE: the name and version arguments are currently not used and only there consistency in the function signature\u001b[39;00m\n\u001b[1;32m    887\u001b[0m \u001b[38;5;124;03m\"\"\"\u001b[39;00m\n\u001b[1;32m    888\u001b[0m launch_plan \u001b[38;5;241m=\u001b[39m \u001b[38;5;28mself\u001b[39m\u001b[38;5;241m.\u001b[39mfetch_launch_plan(entity\u001b[38;5;241m.\u001b[39mid\u001b[38;5;241m.\u001b[39mproject, entity\u001b[38;5;241m.\u001b[39mid\u001b[38;5;241m.\u001b[39mdomain, entity\u001b[38;5;241m.\u001b[39mid\u001b[38;5;241m.\u001b[39mname, entity\u001b[38;5;241m.\u001b[39mid\u001b[38;5;241m.\u001b[39mversion)\n\u001b[0;32m--> 889\u001b[0m \u001b[38;5;28;01mreturn\u001b[39;00m \u001b[38;5;28;43mself\u001b[39;49m\u001b[38;5;241;43m.\u001b[39;49m\u001b[43mexecute_remote_task_lp\u001b[49m\u001b[43m(\u001b[49m\n\u001b[1;32m    890\u001b[0m \u001b[43m    \u001b[49m\u001b[43mlaunch_plan\u001b[49m\u001b[43m,\u001b[49m\n\u001b[1;32m    891\u001b[0m \u001b[43m    \u001b[49m\u001b[43minputs\u001b[49m\u001b[43m,\u001b[49m\n\u001b[1;32m    892\u001b[0m \u001b[43m    \u001b[49m\u001b[43mproject\u001b[49m\u001b[38;5;241;43m=\u001b[39;49m\u001b[43mproject\u001b[49m\u001b[43m,\u001b[49m\n\u001b[1;32m    893\u001b[0m \u001b[43m    \u001b[49m\u001b[43mdomain\u001b[49m\u001b[38;5;241;43m=\u001b[39;49m\u001b[43mdomain\u001b[49m\u001b[43m,\u001b[49m\n\u001b[1;32m    894\u001b[0m \u001b[43m    \u001b[49m\u001b[43mexecution_name\u001b[49m\u001b[38;5;241;43m=\u001b[39;49m\u001b[43mexecution_name\u001b[49m\u001b[43m,\u001b[49m\n\u001b[1;32m    895\u001b[0m \u001b[43m    \u001b[49m\u001b[43moptions\u001b[49m\u001b[38;5;241;43m=\u001b[39;49m\u001b[43moptions\u001b[49m\u001b[43m,\u001b[49m\n\u001b[1;32m    896\u001b[0m \u001b[43m    \u001b[49m\u001b[43mwait\u001b[49m\u001b[38;5;241;43m=\u001b[39;49m\u001b[43mwait\u001b[49m\u001b[43m,\u001b[49m\n\u001b[1;32m    897\u001b[0m \u001b[43m    \u001b[49m\u001b[43mtype_hints\u001b[49m\u001b[38;5;241;43m=\u001b[39;49m\u001b[43mtype_hints\u001b[49m\u001b[43m,\u001b[49m\n\u001b[1;32m    898\u001b[0m \u001b[43m\u001b[49m\u001b[43m)\u001b[49m\n",
      "File \u001b[0;32m~/venvs/unionml-demo/lib/python3.9/site-packages/flytekit/remote/remote.py:862\u001b[0m, in \u001b[0;36mFlyteRemote.execute_remote_task_lp\u001b[0;34m(self, entity, inputs, project, domain, execution_name, options, wait, type_hints)\u001b[0m\n\u001b[1;32m    847\u001b[0m \u001b[38;5;28;01mdef\u001b[39;00m \u001b[38;5;21mexecute_remote_task_lp\u001b[39m(\n\u001b[1;32m    848\u001b[0m     \u001b[38;5;28mself\u001b[39m,\n\u001b[1;32m    849\u001b[0m     entity: typing\u001b[38;5;241m.\u001b[39mUnion[FlyteTask, FlyteLaunchPlan],\n\u001b[0;32m   (...)\u001b[0m\n\u001b[1;32m    856\u001b[0m     type_hints: typing\u001b[38;5;241m.\u001b[39mOptional[typing\u001b[38;5;241m.\u001b[39mDict[\u001b[38;5;28mstr\u001b[39m, typing\u001b[38;5;241m.\u001b[39mType]] \u001b[38;5;241m=\u001b[39m \u001b[38;5;28;01mNone\u001b[39;00m,\n\u001b[1;32m    857\u001b[0m ) \u001b[38;5;241m-\u001b[39m\u001b[38;5;241m>\u001b[39m FlyteWorkflowExecution:\n\u001b[1;32m    858\u001b[0m     \u001b[38;5;124;03m\"\"\"Execute a FlyteTask, or FlyteLaunchplan.\u001b[39;00m\n\u001b[1;32m    859\u001b[0m \n\u001b[1;32m    860\u001b[0m \u001b[38;5;124;03m    NOTE: the name and version arguments are currently not used and only there consistency in the function signature\u001b[39;00m\n\u001b[1;32m    861\u001b[0m \u001b[38;5;124;03m    \"\"\"\u001b[39;00m\n\u001b[0;32m--> 862\u001b[0m     \u001b[38;5;28;01mreturn\u001b[39;00m \u001b[38;5;28;43mself\u001b[39;49m\u001b[38;5;241;43m.\u001b[39;49m\u001b[43m_execute\u001b[49m\u001b[43m(\u001b[49m\n\u001b[1;32m    863\u001b[0m \u001b[43m        \u001b[49m\u001b[43mentity\u001b[49m\u001b[43m,\u001b[49m\n\u001b[1;32m    864\u001b[0m \u001b[43m        \u001b[49m\u001b[43minputs\u001b[49m\u001b[43m,\u001b[49m\n\u001b[1;32m    865\u001b[0m \u001b[43m        \u001b[49m\u001b[43mproject\u001b[49m\u001b[38;5;241;43m=\u001b[39;49m\u001b[43mproject\u001b[49m\u001b[43m,\u001b[49m\n\u001b[1;32m    866\u001b[0m \u001b[43m        \u001b[49m\u001b[43mdomain\u001b[49m\u001b[38;5;241;43m=\u001b[39;49m\u001b[43mdomain\u001b[49m\u001b[43m,\u001b[49m\n\u001b[1;32m    867\u001b[0m \u001b[43m        \u001b[49m\u001b[43mexecution_name\u001b[49m\u001b[38;5;241;43m=\u001b[39;49m\u001b[43mexecution_name\u001b[49m\u001b[43m,\u001b[49m\n\u001b[1;32m    868\u001b[0m \u001b[43m        \u001b[49m\u001b[43mwait\u001b[49m\u001b[38;5;241;43m=\u001b[39;49m\u001b[43mwait\u001b[49m\u001b[43m,\u001b[49m\n\u001b[1;32m    869\u001b[0m \u001b[43m        \u001b[49m\u001b[43moptions\u001b[49m\u001b[38;5;241;43m=\u001b[39;49m\u001b[43moptions\u001b[49m\u001b[43m,\u001b[49m\n\u001b[1;32m    870\u001b[0m \u001b[43m        \u001b[49m\u001b[43mtype_hints\u001b[49m\u001b[38;5;241;43m=\u001b[39;49m\u001b[43mtype_hints\u001b[49m\u001b[43m,\u001b[49m\n\u001b[1;32m    871\u001b[0m \u001b[43m    \u001b[49m\u001b[43m)\u001b[49m\n",
      "File \u001b[0;32m~/venvs/unionml-demo/lib/python3.9/site-packages/flytekit/remote/remote.py:658\u001b[0m, in \u001b[0;36mFlyteRemote._execute\u001b[0;34m(self, entity, inputs, project, domain, execution_name, options, wait, type_hints)\u001b[0m\n\u001b[1;32m    656\u001b[0m         variable \u001b[38;5;241m=\u001b[39m entity\u001b[38;5;241m.\u001b[39minterface\u001b[38;5;241m.\u001b[39minputs\u001b[38;5;241m.\u001b[39mget(k)\n\u001b[1;32m    657\u001b[0m         hint \u001b[38;5;241m=\u001b[39m type_hints[k]\n\u001b[0;32m--> 658\u001b[0m         lit \u001b[38;5;241m=\u001b[39m \u001b[43mTypeEngine\u001b[49m\u001b[38;5;241;43m.\u001b[39;49m\u001b[43mto_literal\u001b[49m\u001b[43m(\u001b[49m\u001b[43mctx\u001b[49m\u001b[43m,\u001b[49m\u001b[43m \u001b[49m\u001b[43mv\u001b[49m\u001b[43m,\u001b[49m\u001b[43m \u001b[49m\u001b[43mhint\u001b[49m\u001b[43m,\u001b[49m\u001b[43m \u001b[49m\u001b[43mvariable\u001b[49m\u001b[38;5;241;43m.\u001b[39;49m\u001b[43mtype\u001b[49m\u001b[43m)\u001b[49m\n\u001b[1;32m    659\u001b[0m     literal_map[k] \u001b[38;5;241m=\u001b[39m lit\n\u001b[1;32m    661\u001b[0m literal_inputs \u001b[38;5;241m=\u001b[39m literal_models\u001b[38;5;241m.\u001b[39mLiteralMap(literals\u001b[38;5;241m=\u001b[39mliteral_map)\n",
      "File \u001b[0;32m~/venvs/unionml-demo/lib/python3.9/site-packages/flytekit/core/type_engine.py:696\u001b[0m, in \u001b[0;36mTypeEngine.to_literal\u001b[0;34m(cls, ctx, python_val, python_type, expected)\u001b[0m\n\u001b[1;32m    693\u001b[0m         \u001b[38;5;28mhash\u001b[39m \u001b[38;5;241m=\u001b[39m annotation\u001b[38;5;241m.\u001b[39mcalculate(python_val)\n\u001b[1;32m    694\u001b[0m         \u001b[38;5;28;01mbreak\u001b[39;00m\n\u001b[0;32m--> 696\u001b[0m lv \u001b[38;5;241m=\u001b[39m \u001b[43mtransformer\u001b[49m\u001b[38;5;241;43m.\u001b[39;49m\u001b[43mto_literal\u001b[49m\u001b[43m(\u001b[49m\u001b[43mctx\u001b[49m\u001b[43m,\u001b[49m\u001b[43m \u001b[49m\u001b[43mpython_val\u001b[49m\u001b[43m,\u001b[49m\u001b[43m \u001b[49m\u001b[43mpython_type\u001b[49m\u001b[43m,\u001b[49m\u001b[43m \u001b[49m\u001b[43mexpected\u001b[49m\u001b[43m)\u001b[49m\n\u001b[1;32m    698\u001b[0m \u001b[38;5;28;01mif\u001b[39;00m \u001b[38;5;28mhash\u001b[39m \u001b[38;5;129;01mis\u001b[39;00m \u001b[38;5;129;01mnot\u001b[39;00m \u001b[38;5;28;01mNone\u001b[39;00m:\n\u001b[1;32m    699\u001b[0m     lv\u001b[38;5;241m.\u001b[39mhash \u001b[38;5;241m=\u001b[39m \u001b[38;5;28mhash\u001b[39m\n",
      "File \u001b[0;32m~/venvs/unionml-demo/lib/python3.9/site-packages/flytekit/types/pickle/pickle.py:78\u001b[0m, in \u001b[0;36mFlytePickleTransformer.to_literal\u001b[0;34m(self, ctx, python_val, python_type, expected)\u001b[0m\n\u001b[1;32m     75\u001b[0m     cloudpickle\u001b[38;5;241m.\u001b[39mdump(python_val, outfile)\n\u001b[1;32m     77\u001b[0m remote_path \u001b[38;5;241m=\u001b[39m ctx\u001b[38;5;241m.\u001b[39mfile_access\u001b[38;5;241m.\u001b[39mget_random_remote_path(uri)\n\u001b[0;32m---> 78\u001b[0m \u001b[43mctx\u001b[49m\u001b[38;5;241;43m.\u001b[39;49m\u001b[43mfile_access\u001b[49m\u001b[38;5;241;43m.\u001b[39;49m\u001b[43mput_data\u001b[49m\u001b[43m(\u001b[49m\u001b[43muri\u001b[49m\u001b[43m,\u001b[49m\u001b[43m \u001b[49m\u001b[43mremote_path\u001b[49m\u001b[43m,\u001b[49m\u001b[43m \u001b[49m\u001b[43mis_multipart\u001b[49m\u001b[38;5;241;43m=\u001b[39;49m\u001b[38;5;28;43;01mFalse\u001b[39;49;00m\u001b[43m)\u001b[49m\n\u001b[1;32m     79\u001b[0m \u001b[38;5;28;01mreturn\u001b[39;00m Literal(scalar\u001b[38;5;241m=\u001b[39mScalar(blob\u001b[38;5;241m=\u001b[39mBlob(metadata\u001b[38;5;241m=\u001b[39mmeta, uri\u001b[38;5;241m=\u001b[39mremote_path)))\n",
      "File \u001b[0;32m~/venvs/unionml-demo/lib/python3.9/site-packages/flytekit/core/data_persistence.py:445\u001b[0m, in \u001b[0;36mFileAccessProvider.put_data\u001b[0;34m(self, local_path, remote_path, is_multipart)\u001b[0m\n\u001b[1;32m    443\u001b[0m         DataPersistencePlugins\u001b[38;5;241m.\u001b[39mfind_plugin(remote_path)()\u001b[38;5;241m.\u001b[39mput(local_path, remote_path, recursive\u001b[38;5;241m=\u001b[39mis_multipart)\n\u001b[1;32m    444\u001b[0m \u001b[38;5;28;01mexcept\u001b[39;00m \u001b[38;5;167;01mException\u001b[39;00m \u001b[38;5;28;01mas\u001b[39;00m ex:\n\u001b[0;32m--> 445\u001b[0m     \u001b[38;5;28;01mraise\u001b[39;00m FlyteAssertion(\n\u001b[1;32m    446\u001b[0m         \u001b[38;5;124mf\u001b[39m\u001b[38;5;124m\"\u001b[39m\u001b[38;5;124mFailed to put data from \u001b[39m\u001b[38;5;132;01m{\u001b[39;00mlocal_path\u001b[38;5;132;01m}\u001b[39;00m\u001b[38;5;124m to \u001b[39m\u001b[38;5;132;01m{\u001b[39;00mremote_path\u001b[38;5;132;01m}\u001b[39;00m\u001b[38;5;124m (recursive=\u001b[39m\u001b[38;5;132;01m{\u001b[39;00mis_multipart\u001b[38;5;132;01m}\u001b[39;00m\u001b[38;5;124m).\u001b[39m\u001b[38;5;130;01m\\n\u001b[39;00m\u001b[38;5;130;01m\\n\u001b[39;00m\u001b[38;5;124m\"\u001b[39m\n\u001b[1;32m    447\u001b[0m         \u001b[38;5;124mf\u001b[39m\u001b[38;5;124m\"\u001b[39m\u001b[38;5;124mOriginal exception: \u001b[39m\u001b[38;5;132;01m{\u001b[39;00m\u001b[38;5;28mstr\u001b[39m(ex)\u001b[38;5;132;01m}\u001b[39;00m\u001b[38;5;124m\"\u001b[39m\n\u001b[1;32m    448\u001b[0m     ) \u001b[38;5;28;01mfrom\u001b[39;00m \u001b[38;5;21;01mex\u001b[39;00m\n",
      "\u001b[0;31mFlyteAssertion\u001b[0m: Failed to put data from /var/folders/4q/frdnh9l10h53gggw1m59gr9m0000gn/T/flytexu3nt0_r/control_plane_metadata/local_flytekit/991eb3068ec048aaa6dadc47f92c95b8 to s3://my-s3-bucket/data/d9a39eab0e9cf865f9178a121b04ea60/991eb3068ec048aaa6dadc47f92c95b8 (recursive=False).\n\nOriginal exception: Called process exited with error code: 1.  Stderr dump:\n\nb'upload failed: ../../../../../var/folders/4q/frdnh9l10h53gggw1m59gr9m0000gn/T/flytexu3nt0_r/control_plane_metadata/local_flytekit/991eb3068ec048aaa6dadc47f92c95b8 to s3://my-s3-bucket/data/d9a39eab0e9cf865f9178a121b04ea60/991eb3068ec048aaa6dadc47f92c95b8 An error occurred (AccessDenied) when calling the PutObject operation: Access Denied\\n'"
     ]
    }
   ],
   "source": [
    "execution = remote.execute(\n",
    "    wf,\n",
    "    inputs={\"model_object\": model.artifact.model_object, \"features\": features},\n",
    "    project=\"unionml\",\n",
    "    domain=\"development\",\n",
    "    wait=True,\n",
    ")"
   ]
  }
 ],
 "metadata": {
  "kernelspec": {
   "display_name": "Python 3 (ipykernel)",
   "language": "python",
   "name": "python3"
  },
  "language_info": {
   "codemirror_mode": {
    "name": "ipython",
    "version": 3
   },
   "file_extension": ".py",
   "mimetype": "text/x-python",
   "name": "python",
   "nbconvert_exporter": "python",
   "pygments_lexer": "ipython3",
   "version": "3.9.1"
  }
 },
 "nbformat": 4,
 "nbformat_minor": 5
}

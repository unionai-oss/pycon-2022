{
 "cells": [
  {
   "cell_type": "markdown",
   "id": "717c4b19-7aed-4906-814e-ecdb6dea11ad",
   "metadata": {},
   "source": [
    "# Challenge: Lets train a QuickDraw model & Deploy it as an online service\n",
    "In the following App we will create a [QuickDraw](https://quickdraw.withgoogle.com/) predictor App. The Dataset is available from [GCS](https://quickdraw.withgoogle.com/data) and contains more than **50 million** labeled drawings. Deep-Learning is a fantastic modeling technique to apply to a visual dataset like this. "
   ]
  },
  {
   "cell_type": "markdown",
   "id": "6e115d12-3abf-47a0-834e-5e423010f1b3",
   "metadata": {},
   "source": [
    "## Build a UnionML app\n",
    "To train a QuickDraw model - we will use the UnionML. This is implemented in [main.py](pictionary_app/main.py) <-- **Click Here**\n",
    "\n",
    "## Now that the App is written, we can import and execute it in this interactive notebook\n",
    "\n",
    "Note we will simply train for 2 classes. this is because the model is a deep learning model and training for the large dataset may take too long locally."
   ]
  },
  {
   "cell_type": "code",
   "execution_count": 1,
   "id": "1107a10e-8864-405d-828e-449c1c2947c1",
   "metadata": {},
   "outputs": [
    {
     "ename": "IndentationError",
     "evalue": "unexpected indent (main.py, line 2)",
     "output_type": "error",
     "traceback": [
      "Traceback \u001b[0;36m(most recent call last)\u001b[0m:\n",
      "  File \u001b[1;32m~/.virtualenvs/unionml/lib/python3.9/site-packages/IPython/core/interactiveshell.py:3369\u001b[0m in \u001b[1;35mrun_code\u001b[0m\n    exec(code_obj, self.user_global_ns, self.user_ns)\n",
      "  Input \u001b[1;32mIn [1]\u001b[0m in \u001b[1;35m<cell line: 1>\u001b[0m\n    from pictionary_app import model\n",
      "\u001b[0;36m  File \u001b[0;32m~/src/pycon-2022/ulearn_demo/pictionary_app/__init__.py:5\u001b[0;36m in \u001b[0;35m<module>\u001b[0;36m\u001b[0m\n\u001b[0;31m    from .main import model\u001b[0m\n",
      "\u001b[0;36m  File \u001b[0;32m~/src/pycon-2022/ulearn_demo/pictionary_app/main.py:2\u001b[0;36m\u001b[0m\n\u001b[0;31m    from typing import Union\u001b[0m\n\u001b[0m    ^\u001b[0m\n\u001b[0;31mIndentationError\u001b[0m\u001b[0;31m:\u001b[0m unexpected indent\n"
     ]
    }
   ],
   "source": [
    "from pictionary_app import model\n",
    "\n",
    "num_classes = 2\n",
    "\n",
    "execution = model.train(\n",
    "    hyperparameters={\"num_classes\": num_classes},\n",
    "    trainer_kwargs={\"num_epochs\": 1},\n",
    "    data_dir=\"./data\",\n",
    "    max_examples_per_class=10000,\n",
    "    class_limit=num_classes,\n",
    "    app_version='71ea176253225b67d5f9e3e2a59354913ffd85f0',\n",
    ")"
   ]
  },
  {
   "cell_type": "markdown",
   "id": "1973c09a-3f49-486e-80cf-4fe3ef6ea1c1",
   "metadata": {},
   "source": [
    "### So local works, I want to train on larger dataset!\n",
    "Let us try to train the model on more data. But for this, we need a GPU. (For refernece training for 2 classes take almost 5 minutes on CPU and 5 seconds on GPU)\n",
    "but, how should we do that?\n",
    "\n",
    "this is where UnionML shines with the help of flyte in the backend. you can simply change the API from `train` to ``remote_train``"
   ]
  },
  {
   "cell_type": "code",
   "execution_count": 2,
   "id": "4d5eedd9-10b0-48de-9d75-294dca73d406",
   "metadata": {},
   "outputs": [
    {
     "ename": "NameError",
     "evalue": "name 'model' is not defined",
     "output_type": "error",
     "traceback": [
      "\u001b[0;31m---------------------------------------------------------------------------\u001b[0m",
      "\u001b[0;31mNameError\u001b[0m                                 Traceback (most recent call last)",
      "Input \u001b[0;32mIn [2]\u001b[0m, in \u001b[0;36m<cell line: 4>\u001b[0;34m()\u001b[0m\n\u001b[1;32m      1\u001b[0m num_classes \u001b[38;5;241m=\u001b[39m \u001b[38;5;241m200\u001b[39m\n\u001b[1;32m      2\u001b[0m num_epochs \u001b[38;5;241m=\u001b[39m \u001b[38;5;241m10\u001b[39m\n\u001b[0;32m----> 4\u001b[0m execution \u001b[38;5;241m=\u001b[39m \u001b[43mmodel\u001b[49m\u001b[38;5;241m.\u001b[39mremote_train(\n\u001b[1;32m      5\u001b[0m     hyperparameters\u001b[38;5;241m=\u001b[39m{\u001b[38;5;124m\"\u001b[39m\u001b[38;5;124mnum_classes\u001b[39m\u001b[38;5;124m\"\u001b[39m: num_classes},\n\u001b[1;32m      6\u001b[0m     trainer_kwargs\u001b[38;5;241m=\u001b[39m{\u001b[38;5;124m\"\u001b[39m\u001b[38;5;124mnum_epochs\u001b[39m\u001b[38;5;124m\"\u001b[39m: num_epochs},\n\u001b[1;32m      7\u001b[0m     data_dir\u001b[38;5;241m=\u001b[39m\u001b[38;5;124m\"\u001b[39m\u001b[38;5;124m./data\u001b[39m\u001b[38;5;124m\"\u001b[39m,\n\u001b[1;32m      8\u001b[0m     max_examples_per_class\u001b[38;5;241m=\u001b[39m\u001b[38;5;241m10000\u001b[39m,\n\u001b[1;32m      9\u001b[0m     class_limit\u001b[38;5;241m=\u001b[39mnum_classes,\n\u001b[1;32m     10\u001b[0m     app_version\u001b[38;5;241m=\u001b[39m\u001b[38;5;124m'\u001b[39m\u001b[38;5;124m71ea176253225b67d5f9e3e2a59354913ffd85f0\u001b[39m\u001b[38;5;124m'\u001b[39m,\n\u001b[1;32m     11\u001b[0m )\n",
      "\u001b[0;31mNameError\u001b[0m: name 'model' is not defined"
     ]
    }
   ],
   "source": [
    "num_classes = 200\n",
    "num_epochs = 10\n",
    "\n",
    "execution = model.remote_train(\n",
    "    hyperparameters={\"num_classes\": num_classes},\n",
    "    trainer_kwargs={\"num_epochs\": num_epochs},\n",
    "    data_dir=\"./data\",\n",
    "    max_examples_per_class=10000,\n",
    "    class_limit=num_classes,\n",
    "    app_version='71ea176253225b67d5f9e3e2a59354913ffd85f0',\n",
    ")"
   ]
  },
  {
   "cell_type": "markdown",
   "id": "5432e54e-e28c-4435-978a-70146c33e021",
   "metadata": {},
   "source": [
    "Now, wait for the execution to complete and then load model from the remote training job. We can easily interact with the fetched model locally to generate predictions."
   ]
  },
  {
   "cell_type": "code",
   "execution_count": null,
   "id": "c4e99bf3-9d6a-464b-8189-43bfc4a55b4d",
   "metadata": {},
   "outputs": [],
   "source": [
    "model.remote_load(execution)"
   ]
  },
  {
   "cell_type": "markdown",
   "id": "997f9706-64c3-4786-842e-0004e5755dc7",
   "metadata": {},
   "source": [
    "### Alright, lets do a Live DEMO!\n",
    "Lets fetch the trained model ^^ and then using the wonderful library called [gradio](https://gradio.app/) to create an interactive widget to test out the model. \n",
    "\n",
    "**Note** UnionML makes it simple to create a webserver using the same ``predict`` method that you wrote as part of ``model``"
   ]
  },
  {
   "cell_type": "code",
   "execution_count": null,
   "id": "13ef3f18-ae57-4d13-b99f-ebedc98393cd",
   "metadata": {},
   "outputs": [],
   "source": [
    "import gradio as gr\n",
    "\n",
    "gr.Interface(\n",
    "    fn=model.predict,\n",
    "    inputs=\"sketchpad\",\n",
    "    outputs=\"label\",\n",
    "    live=True,\n",
    "    allow_flagging=\"never\",\n",
    ").launch()"
   ]
  },
  {
   "cell_type": "markdown",
   "id": "de868d82-2c31-4c2b-92ca-1984214fdd7c",
   "metadata": {},
   "source": [
    "# Challenge: Lets perform a batch prediction on a corpus of doodle drawings\n",
    "What if we want to run predictions on a large number of precreated doodles. Maybe you got them as a drop from somewhere and want to quickly get answers?\n",
    "\n",
    "The UnionML API is lacking. But, we know [Flyte](https://flyte.org/) should handle this. But, how can we reuse UnionML trained model from flytekit?"
   ]
  },
  {
   "cell_type": "markdown",
   "id": "21320282-1153-4578-8109-4dc1b7426910",
   "metadata": {
    "tags": []
   },
   "source": [
    "### UnionML is backed by Flytekit\n",
    "UnionML is backed by flytekit, a general purpose SDK for expressing Flyte workflows. In this section, we define a workflow that uses the model we trained above, and run batch prediction on a larger dataset on the same Flyte backend.\n",
    "\n",
    "\n",
    "### Let us construct a workflow\n",
    "** The workflow should look like so**\n",
    "1. Downloads the available quickdraw categories: `download_quickdraw_dataset`\n",
    "2. Downloads the quickdraw labeled dataset: `download_quickdraw_dataset`\n",
    "3. Attempts to label and generate features for randomly selected drawings in the dataset: `generate_input`\n",
    "4. Tags the labeled drawings with the model with their computed features:`prepare_map_inputs`\n",
    "5. Generates a prediction for each drawing: `batch_predictions_task`\n",
    "6. Finally return the prediction along with their corresponding computed features and labels\n"
   ]
  },
  {
   "cell_type": "code",
   "execution_count": null,
   "id": "87a2b1fe-ceff-4578-a548-9569a3e84d55",
   "metadata": {},
   "outputs": [],
   "source": [
    "import torch.nn\n",
    "from typing import List\n",
    "from flytekit import workflow\n",
    "\n",
    "from flytekit_demo.batch_predictions import batch_predictions_task, prepare_map_inputs, download_quickdraw_dataset, generate_input, download_quickdraw_class_names\n",
    "\n",
    "@workflow\n",
    "def batch_predict(\n",
    "    model_object: torch.nn.Module,\n",
    "    n_entries: int,\n",
    "    max_items_per_class: int = 1000,\n",
    "    num_classes: int = 200,\n",
    ") -> (List[dict], List[torch.Tensor], List[str]):\n",
    "    class_names = download_quickdraw_class_names()\n",
    "    dataset = download_quickdraw_dataset(max_items_per_class=max_items_per_class, num_classes=num_classes)\n",
    "    feature_list, label_list = generate_input(n_entries=n_entries, dataset=dataset, class_names=class_names)\n",
    "    map_input = prepare_map_inputs(model_object=model_object, feature_list=feature_list)\n",
    "    predictions = batch_predictions_task(input=map_input)\n",
    "    return predictions, feature_list, label_list"
   ]
  },
  {
   "cell_type": "markdown",
   "id": "727cd72a-9fac-4430-a282-f77a8034f20f",
   "metadata": {},
   "source": [
    "### Ship the workflow to a Flyte cluster\n",
    "The workflow above still only exists locally in Python memory.  To tell Flyte about it, we create a `FlyteRemote` client object and register the workflow with the associated backend. The workflow is run in a prebuilt container with requisite dependencies. Once registered on Flyte, the workflow is immutable and versioned and can be used to generate reproducable output data."
   ]
  },
  {
   "cell_type": "code",
   "execution_count": null,
   "id": "606ab6a6-c767-4ffe-8911-777ec346bfd4",
   "metadata": {
    "tags": []
   },
   "outputs": [],
   "source": [
    "from flytekit.remote import FlyteRemote\n",
    "from flytekit.configuration import Config, SerializationSettings, ImageConfig\n",
    "\n",
    "remote = FlyteRemote(config=Config.auto(config_file=\"./config/config-remote.yaml\"), \n",
    "                     data_upload_location=\"s3://open-compute-playground/data\",\n",
    "                     default_project=\"unionml\",\n",
    "                     default_domain=\"development\")\n",
    "image_config = ImageConfig.auto(img_name=\"ghcr.io/unionai-oss/unionml:quickdraw-classifier-71ea176253225b67d5f9e3e2a59354913ffd85f0\")\n",
    "wf = remote.register_workflow(batch_predict, \n",
    "                         version=\"71ea176253225b67d5f9e3e2a59354913ffd85f0\", \n",
    "                         serialization_settings=SerializationSettings(image_config=image_config))"
   ]
  },
  {
   "cell_type": "markdown",
   "id": "af2dbbb3-c6cf-4afd-9633-112cb0fd31e2",
   "metadata": {},
   "source": [
    "The remote client allows us to programmatically run the newly registered workflow on the hosted Flyte platform"
   ]
  },
  {
   "cell_type": "code",
   "execution_count": null,
   "id": "55fa0cec-a7d3-42d1-a131-2ad5e68a6430",
   "metadata": {
    "tags": []
   },
   "outputs": [],
   "source": [
    "execution = remote.execute(\n",
    "    wf,\n",
    "    inputs={\"model_object\": model.artifact.model_object, \"n_entries\": 20, \"max_items_per_class\": 1000, \"num_classes\": 200},\n",
    "    project=\"unionml\",\n",
    "    domain=\"development\",\n",
    "    wait=True,\n",
    ")"
   ]
  },
  {
   "cell_type": "markdown",
   "id": "8bde72e8-72cd-49be-9cf3-67955b9d4ca5",
   "metadata": {},
   "source": [
    "### \n",
    "\n",
    "Once the execution completes, we can fetch the typed outputs from the workflow run. In this case, the workflow outputs a series of predictions on the batch input. Let's go through and see how well the model performed here."
   ]
  },
  {
   "cell_type": "code",
   "execution_count": null,
   "id": "2e1ddb44-5008-4eea-97ab-d3cee73a1860",
   "metadata": {},
   "outputs": [],
   "source": [
    "import math\n",
    "from matplotlib import pyplot as plt\n",
    "\n",
    "predictions = execution.outputs.get('o0')\n",
    "feature_list = execution.outputs.get('o1')\n",
    "label_list = execution.outputs.get('o2')\n",
    "\n",
    "# Arrange results in a square where each image contains the prediction alongside with the original label\n",
    "fig = plt.figure(figsize=(40, 40))\n",
    "\n",
    "sqr = math.sqrt(len(predictions))\n",
    "rows = math.ceil(sqr)\n",
    "columns = math.floor(sqr) + 1\n",
    "\n",
    "for i in range(len(predictions)):\n",
    "    best_prediction = max(predictions[i], key=predictions[i].get)\n",
    "    expected_label = label_list[i]\n",
    "\n",
    "    fig.add_subplot(rows, columns, i + 1)\n",
    "    plt.imshow(feature_list[i], interpolation='bicubic')\n",
    "    plt.axis('off')\n",
    "    plt.title(f\"predicted: {best_prediction}\\nexpected: {expected_label}\")"
   ]
  }
 ],
 "metadata": {
  "kernelspec": {
   "display_name": "Python 3 (ipykernel)",
   "language": "python",
   "name": "python3"
  },
  "language_info": {
   "codemirror_mode": {
    "name": "ipython",
    "version": 3
   },
   "file_extension": ".py",
   "mimetype": "text/x-python",
   "name": "python",
   "nbconvert_exporter": "python",
   "pygments_lexer": "ipython3",
   "version": "3.9.9"
  }
 },
 "nbformat": 4,
 "nbformat_minor": 5
}

{
 "cells": [
  {
   "cell_type": "markdown",
   "id": "717c4b19-7aed-4906-814e-ecdb6dea11ad",
   "metadata": {},
   "source": [
    "# Challenge: Lets train a QuickDraw model & Deploy it as an online service\n",
    "In the following App we will create a [QuickDraw](https://quickdraw.withgoogle.com/) predictor App. The Dataset is available from [GCS](https://quickdraw.withgoogle.com/data) and contains more than **50 million** labeled drawings. Deep-Learning is a fantastic modeling technique to apply to a visual dataset like this. "
   ]
  },
  {
   "cell_type": "markdown",
   "id": "6e115d12-3abf-47a0-834e-5e423010f1b3",
   "metadata": {
    "tags": []
   },
   "source": [
    "## Build a UnionML app\n",
    "\n",
    "To train a QuickDraw model, we will use the UnionML, which is implemented in [main.py](pictionary_app/main.py)"
   ]
  },
  {
   "cell_type": "code",
   "execution_count": 1,
   "id": "8606335d-0a4d-4f0a-9e35-cd0052eb7bfe",
   "metadata": {},
   "outputs": [],
   "source": [
    "%%capture\n",
    "!pip install wandb"
   ]
  },
  {
   "cell_type": "code",
   "execution_count": 3,
   "id": "7a98f86d-50fe-4f2e-848e-1d9072535912",
   "metadata": {
    "jupyter": {
     "source_hidden": true
    },
    "tags": []
   },
   "outputs": [],
   "source": [
    "!export WANDB_API_KEY=\"bb3911fee5ec2805704ae7542fe46ecb69dd0a24\""
   ]
  },
  {
   "cell_type": "code",
   "execution_count": 1,
   "id": "244ac238-e4a4-4568-8d3b-ed40b166ddfe",
   "metadata": {},
   "outputs": [],
   "source": [
    "from pictionary_app import model"
   ]
  },
  {
   "cell_type": "markdown",
   "id": "273ded28-43f4-434b-9581-c97ecdb9af8a",
   "metadata": {},
   "source": [
    "## Train on a Small Dataset Locally"
   ]
  },
  {
   "cell_type": "code",
   "execution_count": 4,
   "id": "1107a10e-8864-405d-828e-449c1c2947c1",
   "metadata": {},
   "outputs": [
    {
     "name": "stderr",
     "output_type": "stream",
     "text": [
      "PyTorch: setting up devices\n",
      "***** Running training *****\n",
      "  Num examples = 10000\n",
      "  Num Epochs = 1\n",
      "  Instantaneous batch size per device = 512\n",
      "  Total train batch size (w. parallel, distributed & accumulation) = 512\n",
      "  Gradient Accumulation steps = 1\n",
      "  Total optimization steps = 19\n"
     ]
    },
    {
     "name": "stdout",
     "output_type": "stream",
     "text": [
      "Training on device: cpu\n"
     ]
    },
    {
     "data": {
      "text/html": [
       "\n",
       "    <div>\n",
       "      \n",
       "      <progress value='19' max='19' style='width:300px; height:20px; vertical-align: middle;'></progress>\n",
       "      [19/19 00:22, Epoch 1/1]\n",
       "    </div>\n",
       "    <table border=\"1\" class=\"dataframe\">\n",
       "  <thead>\n",
       " <tr style=\"text-align: left;\">\n",
       "      <th>Step</th>\n",
       "      <th>Training Loss</th>\n",
       "    </tr>\n",
       "  </thead>\n",
       "  <tbody>\n",
       "  </tbody>\n",
       "</table><p>"
      ],
      "text/plain": [
       "<IPython.core.display.HTML object>"
      ]
     },
     "metadata": {},
     "output_type": "display_data"
    },
    {
     "name": "stderr",
     "output_type": "stream",
     "text": [
      "Saving model checkpoint to ./.tmp/outputs_20k_2022-07-15-152151/checkpoint-19\n",
      "Trainer.model is not a `PreTrainedModel`, only saving its state dict.\n",
      "\n",
      "\n",
      "Training completed. Do not forget to share your model on huggingface.co/models =)\n",
      "\n",
      "\n",
      "Saving model checkpoint to ./.tmp/outputs_20k_2022-07-15-152151\n",
      "Trainer.model is not a `PreTrainedModel`, only saving its state dict.\n"
     ]
    },
    {
     "name": "stdout",
     "output_type": "stream",
     "text": [
      "***** train metrics *****\n",
      "  epoch                    =        1.0\n",
      "  total_flos               =        0GF\n",
      "  train_loss               =     2.3026\n",
      "  train_runtime            = 0:00:23.99\n",
      "  train_samples_per_second =    416.779\n",
      "  train_steps_per_second   =      0.792\n"
     ]
    },
    {
     "data": {
      "text/plain": [
       "(Sequential(\n",
       "   (0): Conv2d(1, 64, kernel_size=(3, 3), stride=(1, 1), padding=same)\n",
       "   (1): ReLU()\n",
       "   (2): MaxPool2d(kernel_size=2, stride=2, padding=0, dilation=1, ceil_mode=False)\n",
       "   (3): Conv2d(64, 128, kernel_size=(3, 3), stride=(1, 1), padding=same)\n",
       "   (4): ReLU()\n",
       "   (5): MaxPool2d(kernel_size=2, stride=2, padding=0, dilation=1, ceil_mode=False)\n",
       "   (6): Conv2d(128, 256, kernel_size=(3, 3), stride=(1, 1), padding=same)\n",
       "   (7): ReLU()\n",
       "   (8): MaxPool2d(kernel_size=2, stride=2, padding=0, dilation=1, ceil_mode=False)\n",
       "   (9): Flatten(start_dim=1, end_dim=-1)\n",
       "   (10): Linear(in_features=2304, out_features=512, bias=True)\n",
       "   (11): ReLU()\n",
       "   (12): Linear(in_features=512, out_features=10, bias=True)\n",
       " ),\n",
       " {'train': 9.765625})"
      ]
     },
     "execution_count": 4,
     "metadata": {},
     "output_type": "execute_result"
    }
   ],
   "source": [
    "num_classes = 10\n",
    "\n",
    "model.train(\n",
    "    hyperparameters={\"num_classes\": num_classes},\n",
    "    trainer_kwargs={\"num_epochs\": 1, \"batch_size\": 512},\n",
    "    data_dir=\"/tmp/quickdraw_data\",\n",
    "    max_examples_per_class=1000,\n",
    "    class_limit=num_classes,\n",
    ")"
   ]
  },
  {
   "cell_type": "markdown",
   "id": "cd79bbce-f0fe-47ec-b977-b16bd4f251f5",
   "metadata": {},
   "source": [
    "## Train on a Larger Dataset on a Cluster"
   ]
  },
  {
   "cell_type": "markdown",
   "id": "1973c09a-3f49-486e-80cf-4fe3ef6ea1c1",
   "metadata": {},
   "source": [
    "Let us try to train the model on more data. But for this, we need a GPU. (For refernece training for 2 classes take almost 5 minutes on CPU and 5 seconds on GPU)\n",
    "but, how should we do that?\n",
    "\n",
    "this is where UnionML shines with the help of flyte in the backend. you can simply change the API from `train` to ``remote_train``"
   ]
  },
  {
   "cell_type": "code",
   "execution_count": 4,
   "id": "4d5eedd9-10b0-48de-9d75-294dca73d406",
   "metadata": {},
   "outputs": [
    {
     "name": "stderr",
     "output_type": "stream",
     "text": [
      "{\"asctime\": \"2022-07-15 15:26:40,114\", \"name\": \"flytekit.cli\", \"levelname\": \"ERROR\", \"message\": \"Non-auth RPC error <_InactiveRpcError of RPC that terminated with:\\n\\tstatus = StatusCode.INTERNAL\\n\\tdetails = \\\"Unable to read WorkflowClosure from location s3://production-playground/metadata/admin/unionml/development/quickdraw_classifier.train/dc608b2395a11d30869e238718400626df6e2cf4 : path:s3://production-playground/metadata/admin/unionml/development/quickdraw_classifier.train/dc608b2395a11d30869e238718400626df6e2cf4: Conf container:union-opencompute-open-compute2-playground != Passed Container:production-playground. Dynamic loading is disabled: not found\\\"\\n\\tdebug_error_string = \\\"{\\\"created\\\":\\\"@1657916800.113842000\\\",\\\"description\\\":\\\"Error received from peer ipv4:3.137.115.239:443\\\",\\\"file\\\":\\\"src/core/lib/surface/call.cc\\\",\\\"file_line\\\":904,\\\"grpc_message\\\":\\\"Unable to read WorkflowClosure from location s3://production-playground/metadata/admin/unionml/development/quickdraw_classifier.train/dc608b2395a11d30869e238718400626df6e2cf4 : path:s3://production-playground/metadata/admin/unionml/development/quickdraw_classifier.train/dc608b2395a11d30869e238718400626df6e2cf4: Conf container:union-opencompute-open-compute2-playground != Passed Container:production-playground. Dynamic loading is disabled: not found\\\",\\\"grpc_status\\\":13}\\\"\\n>, sleeping 200ms and retrying\"}\n",
      "{\"asctime\": \"2022-07-15 15:26:40,362\", \"name\": \"flytekit.cli\", \"levelname\": \"ERROR\", \"message\": \"Non-auth RPC error <_InactiveRpcError of RPC that terminated with:\\n\\tstatus = StatusCode.INTERNAL\\n\\tdetails = \\\"Unable to read WorkflowClosure from location s3://production-playground/metadata/admin/unionml/development/quickdraw_classifier.train/dc608b2395a11d30869e238718400626df6e2cf4 : path:s3://production-playground/metadata/admin/unionml/development/quickdraw_classifier.train/dc608b2395a11d30869e238718400626df6e2cf4: Conf container:union-opencompute-open-compute2-playground != Passed Container:production-playground. Dynamic loading is disabled: not found\\\"\\n\\tdebug_error_string = \\\"{\\\"created\\\":\\\"@1657916800.362107000\\\",\\\"description\\\":\\\"Error received from peer ipv4:3.137.115.239:443\\\",\\\"file\\\":\\\"src/core/lib/surface/call.cc\\\",\\\"file_line\\\":904,\\\"grpc_message\\\":\\\"Unable to read WorkflowClosure from location s3://production-playground/metadata/admin/unionml/development/quickdraw_classifier.train/dc608b2395a11d30869e238718400626df6e2cf4 : path:s3://production-playground/metadata/admin/unionml/development/quickdraw_classifier.train/dc608b2395a11d30869e238718400626df6e2cf4: Conf container:union-opencompute-open-compute2-playground != Passed Container:production-playground. Dynamic loading is disabled: not found\\\",\\\"grpc_status\\\":13}\\\"\\n>, sleeping 400ms and retrying\"}\n"
     ]
    },
    {
     "ename": "_InactiveRpcError",
     "evalue": "<_InactiveRpcError of RPC that terminated with:\n\tstatus = StatusCode.INTERNAL\n\tdetails = \"Unable to read WorkflowClosure from location s3://production-playground/metadata/admin/unionml/development/quickdraw_classifier.train/dc608b2395a11d30869e238718400626df6e2cf4 : path:s3://production-playground/metadata/admin/unionml/development/quickdraw_classifier.train/dc608b2395a11d30869e238718400626df6e2cf4: Conf container:union-opencompute-open-compute2-playground != Passed Container:production-playground. Dynamic loading is disabled: not found\"\n\tdebug_error_string = \"{\"created\":\"@1657916800.814560000\",\"description\":\"Error received from peer ipv4:3.137.115.239:443\",\"file\":\"src/core/lib/surface/call.cc\",\"file_line\":904,\"grpc_message\":\"Unable to read WorkflowClosure from location s3://production-playground/metadata/admin/unionml/development/quickdraw_classifier.train/dc608b2395a11d30869e238718400626df6e2cf4 : path:s3://production-playground/metadata/admin/unionml/development/quickdraw_classifier.train/dc608b2395a11d30869e238718400626df6e2cf4: Conf container:union-opencompute-open-compute2-playground != Passed Container:production-playground. Dynamic loading is disabled: not found\",\"grpc_status\":13}\"\n>",
     "output_type": "error",
     "traceback": [
      "\u001b[0;31m---------------------------------------------------------------------------\u001b[0m",
      "\u001b[0;31m_InactiveRpcError\u001b[0m                         Traceback (most recent call last)",
      "Input \u001b[0;32mIn [4]\u001b[0m, in \u001b[0;36m<cell line: 6>\u001b[0;34m()\u001b[0m\n\u001b[1;32m      3\u001b[0m num_epochs \u001b[38;5;241m=\u001b[39m \u001b[38;5;241m5\u001b[39m\n\u001b[1;32m      4\u001b[0m batch_size \u001b[38;5;241m=\u001b[39m \u001b[38;5;241m2048\u001b[39m\n\u001b[0;32m----> 6\u001b[0m execution \u001b[38;5;241m=\u001b[39m \u001b[43mmodel\u001b[49m\u001b[38;5;241;43m.\u001b[39;49m\u001b[43mremote_train\u001b[49m\u001b[43m(\u001b[49m\n\u001b[1;32m      7\u001b[0m \u001b[43m    \u001b[49m\u001b[43mapp_version\u001b[49m\u001b[38;5;241;43m=\u001b[39;49m\u001b[38;5;124;43m\"\u001b[39;49m\u001b[38;5;124;43mdc608b2395a11d30869e238718400626df6e2cf4\u001b[39;49m\u001b[38;5;124;43m\"\u001b[39;49m\u001b[43m,\u001b[49m\n\u001b[1;32m      8\u001b[0m \u001b[43m    \u001b[49m\u001b[43mwait\u001b[49m\u001b[38;5;241;43m=\u001b[39;49m\u001b[38;5;28;43;01mFalse\u001b[39;49;00m\u001b[43m,\u001b[49m\n\u001b[1;32m      9\u001b[0m \u001b[43m    \u001b[49m\u001b[43mhyperparameters\u001b[49m\u001b[38;5;241;43m=\u001b[39;49m\u001b[43m{\u001b[49m\u001b[38;5;124;43m\"\u001b[39;49m\u001b[38;5;124;43mnum_classes\u001b[39;49m\u001b[38;5;124;43m\"\u001b[39;49m\u001b[43m:\u001b[49m\u001b[43m \u001b[49m\u001b[43mnum_classes\u001b[49m\u001b[43m}\u001b[49m\u001b[43m,\u001b[49m\n\u001b[1;32m     10\u001b[0m \u001b[43m    \u001b[49m\u001b[43mtrainer_kwargs\u001b[49m\u001b[38;5;241;43m=\u001b[39;49m\u001b[43m{\u001b[49m\u001b[38;5;124;43m\"\u001b[39;49m\u001b[38;5;124;43mnum_epochs\u001b[39;49m\u001b[38;5;124;43m\"\u001b[39;49m\u001b[43m:\u001b[49m\u001b[43m \u001b[49m\u001b[43mnum_epochs\u001b[49m\u001b[43m,\u001b[49m\u001b[43m \u001b[49m\u001b[38;5;124;43m\"\u001b[39;49m\u001b[38;5;124;43mbatch_size\u001b[39;49m\u001b[38;5;124;43m\"\u001b[39;49m\u001b[43m:\u001b[49m\u001b[43m \u001b[49m\u001b[43mbatch_size\u001b[49m\u001b[43m}\u001b[49m\u001b[43m,\u001b[49m\n\u001b[1;32m     11\u001b[0m \u001b[43m    \u001b[49m\u001b[43mdata_dir\u001b[49m\u001b[38;5;241;43m=\u001b[39;49m\u001b[38;5;124;43m\"\u001b[39;49m\u001b[38;5;124;43m./data\u001b[39;49m\u001b[38;5;124;43m\"\u001b[39;49m\u001b[43m,\u001b[49m\n\u001b[1;32m     12\u001b[0m \u001b[43m    \u001b[49m\u001b[43mmax_examples_per_class\u001b[49m\u001b[38;5;241;43m=\u001b[39;49m\u001b[43mmax_examples_per_class\u001b[49m\u001b[43m,\u001b[49m\n\u001b[1;32m     13\u001b[0m \u001b[43m    \u001b[49m\u001b[43mclass_limit\u001b[49m\u001b[38;5;241;43m=\u001b[39;49m\u001b[43mnum_classes\u001b[49m\u001b[43m,\u001b[49m\n\u001b[1;32m     14\u001b[0m \u001b[43m)\u001b[49m\n",
      "File \u001b[0;32m~/git/unionml/unionml/model.py:588\u001b[0m, in \u001b[0;36mModel.remote_train\u001b[0;34m(self, app_version, wait, hyperparameters, trainer_kwargs, **reader_kwargs)\u001b[0m\n\u001b[1;32m    585\u001b[0m \u001b[38;5;28;01mfrom\u001b[39;00m \u001b[38;5;21;01munionml\u001b[39;00m \u001b[38;5;28;01mimport\u001b[39;00m remote\n\u001b[1;32m    587\u001b[0m app_version \u001b[38;5;241m=\u001b[39m app_version \u001b[38;5;129;01mor\u001b[39;00m remote\u001b[38;5;241m.\u001b[39mget_app_version()\n\u001b[0;32m--> 588\u001b[0m train_wf \u001b[38;5;241m=\u001b[39m \u001b[38;5;28;43mself\u001b[39;49m\u001b[38;5;241;43m.\u001b[39;49m\u001b[43m_remote\u001b[49m\u001b[38;5;241;43m.\u001b[39;49m\u001b[43mfetch_workflow\u001b[49m\u001b[43m(\u001b[49m\u001b[43mname\u001b[49m\u001b[38;5;241;43m=\u001b[39;49m\u001b[38;5;28;43mself\u001b[39;49m\u001b[38;5;241;43m.\u001b[39;49m\u001b[43mtrain_workflow_name\u001b[49m\u001b[43m,\u001b[49m\u001b[43m \u001b[49m\u001b[43mversion\u001b[49m\u001b[38;5;241;43m=\u001b[39;49m\u001b[43mapp_version\u001b[49m\u001b[43m)\u001b[49m\n\u001b[1;32m    589\u001b[0m execution \u001b[38;5;241m=\u001b[39m \u001b[38;5;28mself\u001b[39m\u001b[38;5;241m.\u001b[39m_remote\u001b[38;5;241m.\u001b[39mexecute(\n\u001b[1;32m    590\u001b[0m     train_wf,\n\u001b[1;32m    591\u001b[0m     inputs\u001b[38;5;241m=\u001b[39m{\n\u001b[0;32m   (...)\u001b[0m\n\u001b[1;32m    598\u001b[0m     type_hints\u001b[38;5;241m=\u001b[39m{\u001b[38;5;124m\"\u001b[39m\u001b[38;5;124mhyperparameters\u001b[39m\u001b[38;5;124m\"\u001b[39m: \u001b[38;5;28mself\u001b[39m\u001b[38;5;241m.\u001b[39mhyperparameter_type},\n\u001b[1;32m    599\u001b[0m )\n\u001b[1;32m    600\u001b[0m console_url \u001b[38;5;241m=\u001b[39m \u001b[38;5;28mself\u001b[39m\u001b[38;5;241m.\u001b[39m_remote\u001b[38;5;241m.\u001b[39mgenerate_console_url(execution)\n",
      "File \u001b[0;32m~/miniconda3/envs/unionml/lib/python3.9/site-packages/flytekit/remote/remote.py:230\u001b[0m, in \u001b[0;36mFlyteRemote.fetch_workflow\u001b[0;34m(self, project, domain, name, version)\u001b[0m\n\u001b[1;32m    221\u001b[0m     \u001b[38;5;28;01mraise\u001b[39;00m user_exceptions\u001b[38;5;241m.\u001b[39mFlyteAssertion(\u001b[38;5;124m\"\u001b[39m\u001b[38;5;124mthe \u001b[39m\u001b[38;5;124m'\u001b[39m\u001b[38;5;124mname\u001b[39m\u001b[38;5;124m'\u001b[39m\u001b[38;5;124m argument must be specified.\u001b[39m\u001b[38;5;124m\"\u001b[39m)\n\u001b[1;32m    222\u001b[0m workflow_id \u001b[38;5;241m=\u001b[39m _get_entity_identifier(\n\u001b[1;32m    223\u001b[0m     \u001b[38;5;28mself\u001b[39m\u001b[38;5;241m.\u001b[39mclient\u001b[38;5;241m.\u001b[39mlist_workflows_paginated,\n\u001b[1;32m    224\u001b[0m     ResourceType\u001b[38;5;241m.\u001b[39mWORKFLOW,\n\u001b[0;32m   (...)\u001b[0m\n\u001b[1;32m    228\u001b[0m     version,\n\u001b[1;32m    229\u001b[0m )\n\u001b[0;32m--> 230\u001b[0m admin_workflow \u001b[38;5;241m=\u001b[39m \u001b[38;5;28;43mself\u001b[39;49m\u001b[38;5;241;43m.\u001b[39;49m\u001b[43mclient\u001b[49m\u001b[38;5;241;43m.\u001b[39;49m\u001b[43mget_workflow\u001b[49m\u001b[43m(\u001b[49m\u001b[43mworkflow_id\u001b[49m\u001b[43m)\u001b[49m\n\u001b[1;32m    231\u001b[0m compiled_wf \u001b[38;5;241m=\u001b[39m admin_workflow\u001b[38;5;241m.\u001b[39mclosure\u001b[38;5;241m.\u001b[39mcompiled_workflow\n\u001b[1;32m    233\u001b[0m wf_templates \u001b[38;5;241m=\u001b[39m [compiled_wf\u001b[38;5;241m.\u001b[39mprimary\u001b[38;5;241m.\u001b[39mtemplate]\n",
      "File \u001b[0;32m~/miniconda3/envs/unionml/lib/python3.9/site-packages/flytekit/clients/friendly.py:305\u001b[0m, in \u001b[0;36mSynchronousFlyteClient.get_workflow\u001b[0;34m(self, id)\u001b[0m\n\u001b[1;32m    296\u001b[0m \u001b[38;5;28;01mdef\u001b[39;00m \u001b[38;5;21mget_workflow\u001b[39m(\u001b[38;5;28mself\u001b[39m, \u001b[38;5;28mid\u001b[39m):\n\u001b[1;32m    297\u001b[0m     \u001b[38;5;124;03m\"\"\"\u001b[39;00m\n\u001b[1;32m    298\u001b[0m \u001b[38;5;124;03m    This returns a single workflow for a given ID.\u001b[39;00m\n\u001b[1;32m    299\u001b[0m \n\u001b[0;32m   (...)\u001b[0m\n\u001b[1;32m    302\u001b[0m \u001b[38;5;124;03m    :rtype: flytekit.models.admin.workflow.Workflow\u001b[39;00m\n\u001b[1;32m    303\u001b[0m \u001b[38;5;124;03m    \"\"\"\u001b[39;00m\n\u001b[1;32m    304\u001b[0m     \u001b[38;5;28;01mreturn\u001b[39;00m _workflow\u001b[38;5;241m.\u001b[39mWorkflow\u001b[38;5;241m.\u001b[39mfrom_flyte_idl(\n\u001b[0;32m--> 305\u001b[0m         \u001b[38;5;28;43msuper\u001b[39;49m\u001b[43m(\u001b[49m\u001b[43mSynchronousFlyteClient\u001b[49m\u001b[43m,\u001b[49m\u001b[43m \u001b[49m\u001b[38;5;28;43mself\u001b[39;49m\u001b[43m)\u001b[49m\u001b[38;5;241;43m.\u001b[39;49m\u001b[43mget_workflow\u001b[49m\u001b[43m(\u001b[49m\u001b[43m_common_pb2\u001b[49m\u001b[38;5;241;43m.\u001b[39;49m\u001b[43mObjectGetRequest\u001b[49m\u001b[43m(\u001b[49m\u001b[38;5;28;43mid\u001b[39;49m\u001b[38;5;241;43m=\u001b[39;49m\u001b[38;5;28;43mid\u001b[39;49m\u001b[38;5;241;43m.\u001b[39;49m\u001b[43mto_flyte_idl\u001b[49m\u001b[43m(\u001b[49m\u001b[43m)\u001b[49m\u001b[43m)\u001b[49m\u001b[43m)\u001b[49m\n\u001b[1;32m    306\u001b[0m     )\n",
      "File \u001b[0;32m~/miniconda3/envs/unionml/lib/python3.9/site-packages/flytekit/clients/raw.py:40\u001b[0m, in \u001b[0;36m_handle_rpc_error.<locals>.decorator.<locals>.handler\u001b[0;34m(*args, **kwargs)\u001b[0m\n\u001b[1;32m     38\u001b[0m \u001b[38;5;28;01mfor\u001b[39;00m i \u001b[38;5;129;01min\u001b[39;00m \u001b[38;5;28mrange\u001b[39m(max_retries):\n\u001b[1;32m     39\u001b[0m     \u001b[38;5;28;01mtry\u001b[39;00m:\n\u001b[0;32m---> 40\u001b[0m         \u001b[38;5;28;01mreturn\u001b[39;00m \u001b[43mfn\u001b[49m\u001b[43m(\u001b[49m\u001b[38;5;241;43m*\u001b[39;49m\u001b[43margs\u001b[49m\u001b[43m,\u001b[49m\u001b[43m \u001b[49m\u001b[38;5;241;43m*\u001b[39;49m\u001b[38;5;241;43m*\u001b[39;49m\u001b[43mkwargs\u001b[49m\u001b[43m)\u001b[49m\n\u001b[1;32m     41\u001b[0m     \u001b[38;5;28;01mexcept\u001b[39;00m grpc\u001b[38;5;241m.\u001b[39mRpcError \u001b[38;5;28;01mas\u001b[39;00m e:\n\u001b[1;32m     42\u001b[0m         \u001b[38;5;28;01mif\u001b[39;00m e\u001b[38;5;241m.\u001b[39mcode() \u001b[38;5;241m==\u001b[39m grpc\u001b[38;5;241m.\u001b[39mStatusCode\u001b[38;5;241m.\u001b[39mUNAUTHENTICATED:\n\u001b[1;32m     43\u001b[0m             \u001b[38;5;66;03m# Always retry auth errors.\u001b[39;00m\n",
      "File \u001b[0;32m~/miniconda3/envs/unionml/lib/python3.9/site-packages/flytekit/clients/raw.py:474\u001b[0m, in \u001b[0;36mRawSynchronousFlyteClient.get_workflow\u001b[0;34m(self, get_object_request)\u001b[0m\n\u001b[1;32m    465\u001b[0m \u001b[38;5;129m@_handle_rpc_error\u001b[39m(retry\u001b[38;5;241m=\u001b[39m\u001b[38;5;28;01mTrue\u001b[39;00m)\n\u001b[1;32m    466\u001b[0m \u001b[38;5;28;01mdef\u001b[39;00m \u001b[38;5;21mget_workflow\u001b[39m(\u001b[38;5;28mself\u001b[39m, get_object_request):\n\u001b[1;32m    467\u001b[0m     \u001b[38;5;124;03m\"\"\"\u001b[39;00m\n\u001b[1;32m    468\u001b[0m \u001b[38;5;124;03m    This returns a single workflow for a given identifier.\u001b[39;00m\n\u001b[1;32m    469\u001b[0m \n\u001b[0;32m   (...)\u001b[0m\n\u001b[1;32m    472\u001b[0m \u001b[38;5;124;03m    :raises: TODO\u001b[39;00m\n\u001b[1;32m    473\u001b[0m \u001b[38;5;124;03m    \"\"\"\u001b[39;00m\n\u001b[0;32m--> 474\u001b[0m     \u001b[38;5;28;01mreturn\u001b[39;00m \u001b[38;5;28;43mself\u001b[39;49m\u001b[38;5;241;43m.\u001b[39;49m\u001b[43m_stub\u001b[49m\u001b[38;5;241;43m.\u001b[39;49m\u001b[43mGetWorkflow\u001b[49m\u001b[43m(\u001b[49m\u001b[43mget_object_request\u001b[49m\u001b[43m,\u001b[49m\u001b[43m \u001b[49m\u001b[43mmetadata\u001b[49m\u001b[38;5;241;43m=\u001b[39;49m\u001b[38;5;28;43mself\u001b[39;49m\u001b[38;5;241;43m.\u001b[39;49m\u001b[43m_metadata\u001b[49m\u001b[43m)\u001b[49m\n",
      "File \u001b[0;32m~/miniconda3/envs/unionml/lib/python3.9/site-packages/grpc/_channel.py:946\u001b[0m, in \u001b[0;36m_UnaryUnaryMultiCallable.__call__\u001b[0;34m(self, request, timeout, metadata, credentials, wait_for_ready, compression)\u001b[0m\n\u001b[1;32m    937\u001b[0m \u001b[38;5;28;01mdef\u001b[39;00m \u001b[38;5;21m__call__\u001b[39m(\u001b[38;5;28mself\u001b[39m,\n\u001b[1;32m    938\u001b[0m              request,\n\u001b[1;32m    939\u001b[0m              timeout\u001b[38;5;241m=\u001b[39m\u001b[38;5;28;01mNone\u001b[39;00m,\n\u001b[0;32m   (...)\u001b[0m\n\u001b[1;32m    942\u001b[0m              wait_for_ready\u001b[38;5;241m=\u001b[39m\u001b[38;5;28;01mNone\u001b[39;00m,\n\u001b[1;32m    943\u001b[0m              compression\u001b[38;5;241m=\u001b[39m\u001b[38;5;28;01mNone\u001b[39;00m):\n\u001b[1;32m    944\u001b[0m     state, call, \u001b[38;5;241m=\u001b[39m \u001b[38;5;28mself\u001b[39m\u001b[38;5;241m.\u001b[39m_blocking(request, timeout, metadata, credentials,\n\u001b[1;32m    945\u001b[0m                                   wait_for_ready, compression)\n\u001b[0;32m--> 946\u001b[0m     \u001b[38;5;28;01mreturn\u001b[39;00m \u001b[43m_end_unary_response_blocking\u001b[49m\u001b[43m(\u001b[49m\u001b[43mstate\u001b[49m\u001b[43m,\u001b[49m\u001b[43m \u001b[49m\u001b[43mcall\u001b[49m\u001b[43m,\u001b[49m\u001b[43m \u001b[49m\u001b[38;5;28;43;01mFalse\u001b[39;49;00m\u001b[43m,\u001b[49m\u001b[43m \u001b[49m\u001b[38;5;28;43;01mNone\u001b[39;49;00m\u001b[43m)\u001b[49m\n",
      "File \u001b[0;32m~/miniconda3/envs/unionml/lib/python3.9/site-packages/grpc/_channel.py:849\u001b[0m, in \u001b[0;36m_end_unary_response_blocking\u001b[0;34m(state, call, with_call, deadline)\u001b[0m\n\u001b[1;32m    847\u001b[0m         \u001b[38;5;28;01mreturn\u001b[39;00m state\u001b[38;5;241m.\u001b[39mresponse\n\u001b[1;32m    848\u001b[0m \u001b[38;5;28;01melse\u001b[39;00m:\n\u001b[0;32m--> 849\u001b[0m     \u001b[38;5;28;01mraise\u001b[39;00m _InactiveRpcError(state)\n",
      "\u001b[0;31m_InactiveRpcError\u001b[0m: <_InactiveRpcError of RPC that terminated with:\n\tstatus = StatusCode.INTERNAL\n\tdetails = \"Unable to read WorkflowClosure from location s3://production-playground/metadata/admin/unionml/development/quickdraw_classifier.train/dc608b2395a11d30869e238718400626df6e2cf4 : path:s3://production-playground/metadata/admin/unionml/development/quickdraw_classifier.train/dc608b2395a11d30869e238718400626df6e2cf4: Conf container:union-opencompute-open-compute2-playground != Passed Container:production-playground. Dynamic loading is disabled: not found\"\n\tdebug_error_string = \"{\"created\":\"@1657916800.814560000\",\"description\":\"Error received from peer ipv4:3.137.115.239:443\",\"file\":\"src/core/lib/surface/call.cc\",\"file_line\":904,\"grpc_message\":\"Unable to read WorkflowClosure from location s3://production-playground/metadata/admin/unionml/development/quickdraw_classifier.train/dc608b2395a11d30869e238718400626df6e2cf4 : path:s3://production-playground/metadata/admin/unionml/development/quickdraw_classifier.train/dc608b2395a11d30869e238718400626df6e2cf4: Conf container:union-opencompute-open-compute2-playground != Passed Container:production-playground. Dynamic loading is disabled: not found\",\"grpc_status\":13}\"\n>"
     ]
    }
   ],
   "source": [
    "num_classes = 345\n",
    "max_examples_per_class = 20000\n",
    "num_epochs = 5\n",
    "batch_size = 2048\n",
    "\n",
    "execution = model.remote_train(\n",
    "    app_version=\"dc608b2395a11d30869e238718400626df6e2cf4\",\n",
    "    wait=False,\n",
    "    hyperparameters={\"num_classes\": num_classes},\n",
    "    trainer_kwargs={\"num_epochs\": num_epochs, \"batch_size\": batch_size},\n",
    "    data_dir=\"./data\",\n",
    "    max_examples_per_class=max_examples_per_class,\n",
    "    class_limit=num_classes,\n",
    ")"
   ]
  },
  {
   "cell_type": "markdown",
   "id": "5432e54e-e28c-4435-978a-70146c33e021",
   "metadata": {},
   "source": [
    "Now, wait for the execution to complete and then load model from the remote training job. We can easily interact with the fetched model locally to generate predictions."
   ]
  },
  {
   "cell_type": "code",
   "execution_count": 9,
   "id": "c4e99bf3-9d6a-464b-8189-43bfc4a55b4d",
   "metadata": {},
   "outputs": [
    {
     "name": "stdout",
     "output_type": "stream",
     "text": [
      "Waiting for execution f7599ac9a0231493eb5d to complete...\n",
      "Done.\n"
     ]
    }
   ],
   "source": [
    "model.remote_load(execution)"
   ]
  },
  {
   "cell_type": "code",
   "execution_count": 10,
   "id": "95c48476-6c6f-43db-a703-9a34191a8e81",
   "metadata": {},
   "outputs": [
    {
     "data": {
      "text/plain": [
       "ModelArtifact(model_object=Sequential(\n",
       "  (0): Conv2d(1, 64, kernel_size=(3, 3), stride=(1, 1), padding=same)\n",
       "  (1): ReLU()\n",
       "  (2): MaxPool2d(kernel_size=2, stride=2, padding=0, dilation=1, ceil_mode=False)\n",
       "  (3): Conv2d(64, 128, kernel_size=(3, 3), stride=(1, 1), padding=same)\n",
       "  (4): ReLU()\n",
       "  (5): MaxPool2d(kernel_size=2, stride=2, padding=0, dilation=1, ceil_mode=False)\n",
       "  (6): Conv2d(128, 256, kernel_size=(3, 3), stride=(1, 1), padding=same)\n",
       "  (7): ReLU()\n",
       "  (8): MaxPool2d(kernel_size=2, stride=2, padding=0, dilation=1, ceil_mode=False)\n",
       "  (9): Flatten(start_dim=1, end_dim=-1)\n",
       "  (10): Linear(in_features=2304, out_features=512, bias=True)\n",
       "  (11): ReLU()\n",
       "  (12): Linear(in_features=512, out_features=345, bias=True)\n",
       "), hyperparameters=HyperparametersSchema(num_classes=345), metrics={'train': 76.10881042480469})"
      ]
     },
     "execution_count": 10,
     "metadata": {},
     "output_type": "execute_result"
    }
   ],
   "source": [
    "model.artifact"
   ]
  },
  {
   "cell_type": "markdown",
   "id": "997f9706-64c3-4786-842e-0004e5755dc7",
   "metadata": {},
   "source": [
    "### Create a Frontend Widget for our UnionML App\n",
    "\n",
    "Lets fetch the trained model ^^ and then using the wonderful library called [gradio](https://gradio.app/) to create an interactive widget to test out the model. \n",
    "\n",
    "**Note** UnionML makes it simple to create a webserver using the same ``predict`` method that you wrote as part of ``model``\n",
    "\n",
    "**Challenge** Draw a smiley face and see if the model understands it!"
   ]
  },
  {
   "cell_type": "code",
   "execution_count": 11,
   "id": "7e5fdee3-9f89-4bb5-967e-8497150fe341",
   "metadata": {},
   "outputs": [
    {
     "name": "stdout",
     "output_type": "stream",
     "text": [
      "Hint: Set streaming=True for Sketchpad component to use live streaming.\n",
      "Running on local URL:  http://127.0.0.1:7860/\n",
      "\n",
      "To create a public link, set `share=True` in `launch()`.\n"
     ]
    },
    {
     "data": {
      "text/html": [
       "<div><iframe src=\"http://127.0.0.1:7860/\" width=\"900\" height=\"500\" allow=\"autoplay; camera; microphone;\" frameborder=\"0\" allowfullscreen></iframe></div>"
      ],
      "text/plain": [
       "<IPython.core.display.HTML object>"
      ]
     },
     "metadata": {},
     "output_type": "display_data"
    },
    {
     "data": {
      "text/plain": [
       "(<gradio.routes.App at 0x7fa5624de7c0>, 'http://127.0.0.1:7860/', None)"
      ]
     },
     "execution_count": 11,
     "metadata": {},
     "output_type": "execute_result"
    },
    {
     "name": "stderr",
     "output_type": "stream",
     "text": [
      "Exception in callback None(<Task finishe...> result=None>)\n",
      "handle: <Handle>\n",
      "Traceback (most recent call last):\n",
      "  File \"/Users/nielsbantilan/miniconda3/lib/python3.9/asyncio/events.py\", line 80, in _run\n",
      "    self._context.run(self._callback, *self._args)\n",
      "TypeError: 'NoneType' object is not callable\n"
     ]
    }
   ],
   "source": [
    "import gradio as gr\n",
    "\n",
    "gr.Interface(\n",
    "    fn=lambda img: img if img is None else model.predict(img),\n",
    "    inputs=\"sketchpad\",\n",
    "    outputs=\"label\",\n",
    "    live=True,\n",
    "    allow_flagging=\"never\",\n",
    ").launch()"
   ]
  }
 ],
 "metadata": {
  "kernelspec": {
   "display_name": "Python 3 (ipykernel)",
   "language": "python",
   "name": "python3"
  },
  "language_info": {
   "codemirror_mode": {
    "name": "ipython",
    "version": 3
   },
   "file_extension": ".py",
   "mimetype": "text/x-python",
   "name": "python",
   "nbconvert_exporter": "python",
   "pygments_lexer": "ipython3",
   "version": "3.9.12"
  }
 },
 "nbformat": 4,
 "nbformat_minor": 5
}
